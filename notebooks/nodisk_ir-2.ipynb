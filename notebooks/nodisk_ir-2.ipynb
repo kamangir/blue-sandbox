{
 "cells": [
  {
   "attachments": {},
   "cell_type": "markdown",
   "metadata": {},
   "source": [
    "# nodisk.ir\n",
    "\n",
    "https://nodisk.ir/"
   ]
  },
  {
   "cell_type": "code",
   "execution_count": 1,
   "metadata": {},
   "outputs": [
    {
     "name": "stderr",
     "output_type": "stream",
     "text": [
      "🌀  blue_sandbox-5.350.1.abcli-9.569.1.blue_objects-5.339.1.blue_options-4.240.1.torch-2.2.2.Python 3.12.9.Darwin 23.6.0..Jupyter-Notebook,\n",
      "built on 23 March 2025, 14:12:30\n"
     ]
    }
   ],
   "source": [
    "from blueflow import notebooks\n",
    "\n",
    "from webdav3.client import Client\n",
    "\n",
    "from blue_options import string\n",
    "from blue_objects import objects\n",
    "\n",
    "from blue_sandbox.host import signature\n",
    "from blue_sandbox.WebDAV import WebDAVInterface\n",
    "from blue_sandbox import env\n",
    "from blue_sandbox.logger import logger\n",
    "\n",
    "logger.info(f\"{'.'.join(signature())},\\nbuilt on {string.pretty_date()}\")"
   ]
  },
  {
   "cell_type": "code",
   "execution_count": 2,
   "metadata": {},
   "outputs": [],
   "source": [
    "filename = \"giza.pdf\"\n",
    "\n",
    "source_object_name = \"giza-v1\"\n",
    "source_object_path = objects.object_path(source_object_name)\n",
    "\n",
    "assert objects.download(source_object_name)"
   ]
  },
  {
   "cell_type": "code",
   "execution_count": 3,
   "metadata": {},
   "outputs": [
    {
     "name": "stderr",
     "output_type": "stream",
     "text": [
      "🌀  📂 nodisk-2025-03-23-14-12-30-3pyr0h\n"
     ]
    }
   ],
   "source": [
    "destination_object_name = objects.unique_object(\"nodisk\")\n",
    "destination_object_path = objects.object_path(destination_object_name)"
   ]
  },
  {
   "attachments": {},
   "cell_type": "markdown",
   "metadata": {},
   "source": [
    "---"
   ]
  },
  {
   "cell_type": "code",
   "execution_count": 4,
   "metadata": {},
   "outputs": [],
   "source": [
    "interface = WebDAVInterface()"
   ]
  },
  {
   "cell_type": "code",
   "execution_count": 5,
   "metadata": {},
   "outputs": [
    {
     "name": "stderr",
     "output_type": "stream",
     "text": [
      "🌀  blue_sandbox.WebDAV.interface.ensure_remote_directory: created nodisk-2025-03-23-14-12-30-3pyr0h\n",
      "🌀  blue_sandbox.WebDAV.interface.upload_file: /Users/kamangir/storage/abcli/giza-v1/giza.pdf -> nodisk-2025-03-23-14-12-30-3pyr0h/giza.pdf\n"
     ]
    }
   ],
   "source": [
    "assert interface.upload_file(\n",
    "    objects.path_of(filename, source_object_name),\n",
    "    f'{destination_object_name}/{filename}'\n",
    ")"
   ]
  },
  {
   "cell_type": "code",
   "execution_count": 6,
   "metadata": {},
   "outputs": [
    {
     "name": "stderr",
     "output_type": "stream",
     "text": [
      "🌀  blue_sandbox.WebDAV.interface.download_file nodisk-2025-03-23-14-12-30-3pyr0h/giza.pdf -> /Users/kamangir/storage/abcli/nodisk-2025-03-23-14-12-30-3pyr0h/giza.pdf\n"
     ]
    }
   ],
   "source": [
    "assert interface.download_file(\n",
    "    f'{destination_object_name}/{filename}',\n",
    "    objects.path_of(filename, destination_object_name),\n",
    ")"
   ]
  },
  {
   "attachments": {},
   "cell_type": "markdown",
   "metadata": {},
   "source": [
    "---"
   ]
  },
  {
   "cell_type": "code",
   "execution_count": 7,
   "metadata": {},
   "outputs": [
    {
     "name": "stdout",
     "output_type": "stream",
     "text": [
      "upload: ../../../storage/abcli/nodisk-2025-03-23-14-12-30-3pyr0h/giza.pdf to s3://kamangir/bolt/nodisk-2025-03-23-14-12-30-3pyr0h/giza.pdf\n"
     ]
    },
    {
     "name": "stderr",
     "output_type": "stream",
     "text": [
      "🌀  ⏺️  nodisk-2025-03-23-14-12-30-3pyr0h | 00001\n",
      "🌀  ⏹️  nodisk-2025-03-23-14-12-30-3pyr0h\n"
     ]
    },
    {
     "name": "stdout",
     "output_type": "stream",
     "text": [
      "🏃 View run nodisk-2025-03-23-14-12-30-3pyr0h-00001 at: https://dbc-3ac1d106-bf0c.cloud.databricks.com/ml/experiments/3238581018880669/runs/6de8d01a26bf450bb25c63e0a0bbe620\n",
      "🧪 View experiment at: https://dbc-3ac1d106-bf0c.cloud.databricks.com/ml/experiments/3238581018880669\n"
     ]
    }
   ],
   "source": [
    "assert notebooks.upload(destination_object_name)"
   ]
  },
  {
   "cell_type": "code",
   "execution_count": 8,
   "metadata": {},
   "outputs": [],
   "source": [
    "# END"
   ]
  }
 ],
 "metadata": {
  "kernelspec": {
   "display_name": "base",
   "language": "python",
   "name": "python3"
  },
  "language_info": {
   "codemirror_mode": {
    "name": "ipython",
    "version": 3
   },
   "file_extension": ".py",
   "mimetype": "text/x-python",
   "name": "python",
   "nbconvert_exporter": "python",
   "pygments_lexer": "ipython3",
   "version": "3.12.9"
  },
  "toc": {
   "base_numbering": 1,
   "nav_menu": {},
   "number_sections": true,
   "sideBar": true,
   "skip_h1_title": false,
   "title_cell": "Table of Contents",
   "title_sidebar": "Contents",
   "toc_cell": false,
   "toc_position": {},
   "toc_section_display": true,
   "toc_window_display": false
  }
 },
 "nbformat": 4,
 "nbformat_minor": 2
}
