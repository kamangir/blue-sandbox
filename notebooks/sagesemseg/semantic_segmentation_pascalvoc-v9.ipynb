{
 "cells": [
  {
   "cell_type": "markdown",
   "metadata": {},
   "source": [
    "# Amazon SageMaker Semantic Segmentation Algorithm - v9\n",
    "\n",
    "post migration from [roofAI](https://github.com/kamangir/roofAI/tree/main/notebooks/sagemaker)"
   ]
  },
  {
   "cell_type": "code",
   "execution_count": 1,
   "metadata": {},
   "outputs": [],
   "source": [
    "# !pip3 install 'sagemaker>=2,<3'"
   ]
  },
  {
   "cell_type": "code",
   "execution_count": 2,
   "metadata": {
    "tags": []
   },
   "outputs": [
    {
     "name": "stderr",
     "output_type": "stream",
     "text": [
      "/Users/kamangir/git/.venv/lib/python3.9/site-packages/pydantic/_internal/_fields.py:192: UserWarning: Field name \"json\" in \"MonitoringDatasetFormat\" shadows an attribute in parent \"Base\"\n",
      "  warnings.warn(\n"
     ]
    },
    {
     "name": "stdout",
     "output_type": "stream",
     "text": [
      "sagemaker.config      - Not applying SDK defaults from location: /Library/Application Support/sagemaker/config.yaml\n",
      "sagemaker.config      - Not applying SDK defaults from location: /Users/kamangir/Library/Application Support/sagemaker/config.yaml\n"
     ]
    },
    {
     "name": "stderr",
     "output_type": "stream",
     "text": [
      "⚠️  sagemaker Couldn't call 'get_role' to get Role ARN from role name kamangir to get Role path.\n",
      "📜  sagemaker role: arn:aws:iam::120429650996:role/service-role/AmazonSageMaker-ExecutionRole-20231022T170206\n",
      "🌀  blue_sandbox-5.105.1, built on 11 January 2025, 22:00:08\n"
     ]
    }
   ],
   "source": [
    "import sys\n",
    "sys.path.append(\"../../\")\n",
    "\n",
    "from blueflow import notebooks\n",
    "\n",
    "import sagemaker\n",
    "import time\n",
    "\n",
    "from blue_options import string\n",
    "from blue_objects import path, objects\n",
    "\n",
    "\n",
    "from blue_sandbox.sagemaker.model import SageSemSegModel\n",
    "from blue_sandbox import fullname\n",
    "from blue_sandbox.logger import logger\n",
    "\n",
    "logger.info(f\"{fullname()}, built on {string.pretty_date()}\")"
   ]
  },
  {
   "cell_type": "code",
   "execution_count": 3,
   "metadata": {},
   "outputs": [],
   "source": [
    "dryrun = True\n",
    "install = False"
   ]
  },
  {
   "cell_type": "code",
   "execution_count": 4,
   "metadata": {
    "tags": []
   },
   "outputs": [
    {
     "name": "stderr",
     "output_type": "stream",
     "text": [
      "🌀  dataset_object_name: pascal-voc-v1-debug-v2\n",
      "🌀  📂 sagesemseg-model-2025-01-11-22-00-08-bWIfOa\n"
     ]
    }
   ],
   "source": [
    "# sagesemseg upload_dataset - suffix=full-v2\n",
    "dataset_object_name = \"pascal-voc-v1-full-v2\"\n",
    "\n",
    "if dryrun:\n",
    "    # sagesemseg upload_dataset - suffix=debug-v2 --count 16\n",
    "    dataset_object_name = \"pascal-voc-v1-debug-v2\"\n",
    "\n",
    "logger.info(f\"dataset_object_name: {dataset_object_name}\")\n",
    "model_object_name = objects.unique_object(\"sagesemseg-model\")"
   ]
  },
  {
   "cell_type": "code",
   "execution_count": 5,
   "metadata": {
    "tags": []
   },
   "outputs": [
    {
     "name": "stderr",
     "output_type": "stream",
     "text": [
      "sagemaker.image_uris Same images used for training and inference. Defaulting to image scope: inference.\n",
      "sagemaker.image_uris Ignoring unnecessary instance type: None.\n",
      "🌀  SageSemSegModel init took 059 millisecond(s), image: 469771592824.dkr.ecr.ca-central-1.amazonaws.com/semantic-segmentation:1\n"
     ]
    }
   ],
   "source": [
    "model = SageSemSegModel()"
   ]
  },
  {
   "cell_type": "code",
   "execution_count": 6,
   "metadata": {},
   "outputs": [
    {
     "name": "stderr",
     "output_type": "stream",
     "text": [
      "🌀  SageSemSegModel.train: pascal-voc-v1-debug-v2 -> sagesemseg-model-2025-01-11-22-00-08-bWIfOa\n",
      "🌀  pascal-voc-v1-debug-v2.metadata: {\n",
      "    \"bucket\": \"kamangir\",\n",
      "    \"channel\": {\n",
      "        \"label_map\": \"s3://kamangir/bolt/pascal-voc-v1-debug-v2/label_map/train_label_map.json\",\n",
      "        \"train\": \"s3://kamangir/bolt/pascal-voc-v1-debug-v2/train\",\n",
      "        \"train_annotation\": \"s3://kamangir/bolt/pascal-voc-v1-debug-v2/train_annotation\",\n",
      "        \"validation\": \"s3://kamangir/bolt/pascal-voc-v1-debug-v2/validation\",\n",
      "        \"validation_annotation\": \"s3://kamangir/bolt/pascal-voc-v1-debug-v2/validation_annotation\"\n",
      "    },\n",
      "    \"num\": {\n",
      "        \"train\": 16,\n",
      "        \"val\": 16\n",
      "    },\n",
      "    \"prefix\": \"bolt/pascal-voc-v1-debug-v2\"\n",
      "}\n",
      "🌀  num_classes: 21\n",
      "sagemaker.telemetry.telemetry_logging SageMaker Python SDK will collect telemetry to help us better understand our user's needs, diagnose issues, and deliver additional features.\n",
      "To opt out of telemetry, please disable via TelemetryOptOut parameter in SDK defaults config. For more information, refer to https://sagemaker.readthedocs.io/en/stable/overview.html#configuring-and-using-defaults-with-the-sagemaker-python-sdk.\n",
      "sagemaker Creating training-job with name: sagesemseg-model-2025-01-11-22-00-08-bW-2025-01-12-06-00-08-928\n"
     ]
    },
    {
     "name": "stdout",
     "output_type": "stream",
     "text": [
      "2025-01-12 06:00:13 Starting - Starting the training job...\n",
      "2025-01-12 06:00:38 Starting - Preparing the instances for training...\n",
      "2025-01-12 06:01:13 Downloading - Downloading input data...\n",
      "2025-01-12 06:01:33 Downloading - Downloading the training image..................\n",
      "2025-01-12 06:04:35 Training - Training image download completed. Training in progress...Docker entrypoint called with argument(s): train\n",
      "Running default environment configuration script\n",
      "Nvidia gpu devices, drivers and cuda toolkit versions (only available on hosts with GPU):\n",
      "Sun Jan 12 06:04:58 2025       \n",
      "+-----------------------------------------------------------------------------------------+\n",
      "| NVIDIA-SMI 550.127.05             Driver Version: 550.127.05     CUDA Version: 12.4     |\n",
      "|-----------------------------------------+------------------------+----------------------+\n",
      "| GPU  Name                 Persistence-M | Bus-Id          Disp.A | Volatile Uncorr. ECC |\n",
      "| Fan  Temp   Perf          Pwr:Usage/Cap |           Memory-Usage | GPU-Util  Compute M. |\n",
      "|                                         |                        |               MIG M. |\n",
      "|=========================================+========================+======================|\n",
      "|   0  Tesla V100-SXM2-16GB           On  |   00000000:00:1E.0 Off |                    0 |\n",
      "| N/A   34C    P0             23W /  300W |       1MiB /  16384MiB |      0%      Default |\n",
      "|                                         |                        |                  N/A |\n",
      "+-----------------------------------------+------------------------+----------------------+\n",
      "                                                                                         \n",
      "+-----------------------------------------------------------------------------------------+\n",
      "| Processes:                                                                              |\n",
      "|  GPU   GI   CI        PID   Type   Process name                              GPU Memory |\n",
      "|        ID   ID                                                               Usage      |\n",
      "|=========================================================================================|\n",
      "|  No running processes found                                                             |\n",
      "+-----------------------------------------------------------------------------------------+\n",
      "Checking for nvidia driver and cuda compatibility.\n",
      "CUDA Compatibility driver provided.\n",
      "Proceeding with compatibility check between driver, cuda-toolkit and cuda-compat.\n",
      "Detected cuda-toolkit version: 11.1.\n",
      "Detected cuda-compat version: 455.32.00.\n",
      "Detected Nvidia driver version: 550.127.05.\n",
      "Nvidia driver compatible with cuda-toolkit. Disabling cuda-compat.\n",
      "Running custom environment configuration script\n",
      "/opt/amazon/lib/python3.8/site-packages/mxnet/model.py:97: SyntaxWarning: \"is\" with a literal. Did you mean \"==\"?\n",
      "  if num_device is 1 and 'dist' not in kvstore:\n",
      "/opt/amazon/lib/python3.8/site-packages/scipy/optimize/_shgo.py:495: SyntaxWarning: \"is\" with a literal. Did you mean \"==\"?\n",
      "  if cons['type'] is 'ineq':\n",
      "/opt/amazon/lib/python3.8/site-packages/scipy/optimize/_shgo.py:743: SyntaxWarning: \"is not\" with a literal. Did you mean \"!=\"?\n",
      "  if len(self.X_min) is not 0:\n",
      "[01/12/2025 06:05:02 INFO 140168011298624] Reading default configuration from /opt/amazon/lib/python3.8/site-packages/algorithm/default-input.json: {'backbone': 'resnet-50', 'algorithm': 'fcn', 'use_pretrained_model': 'True', 'crop_size': '240', 'epochs': '10', 'learning_rate': '0.001', 'optimizer': 'sgd', 'lr_scheduler': 'poly', 'lr_scheduler_factor': '0.1', 'weight_decay': '0.0001', 'momentum': '0.9', 'gamma1': '0.9', 'gamma2': '0.9', 'mini_batch_size': '16', 'validation_mini_batch_size': '16', 'num_training_samples': '8', 'early_stopping_min_epochs': '5', 'early_stopping': 'False', 'early_stopping_patience': '4', 'early_stopping_tolerance': '0.0', 'precision_dtype': 'float32', '_kvstore': 'device', '_num_kv_servers': 'auto', 'syncbn': 'False', '_workers': '16', '_aux_loss': 'True', '_aux_weight': '0.5', '_hybrid': 'False', '_augmentation_type': 'default', '_logging_frequency': '20'}\n",
      "[01/12/2025 06:05:02 INFO 140168011298624] Merging with provided configuration from /opt/ml/input/config/hyperparameters.json: {'algorithm': 'fcn', 'backbone': 'resnet-50', 'crop_size': '240', 'early_stopping': 'True', 'early_stopping_min_epochs': '10', 'early_stopping_patience': '2', 'epochs': '10', 'learning_rate': '0.0001', 'lr_scheduler': 'poly', 'mini_batch_size': '16', 'num_classes': '21', 'num_training_samples': '16', 'optimizer': 'rmsprop', 'use_pretrained_model': 'True', 'validation_mini_batch_size': '16'}\n",
      "[01/12/2025 06:05:02 INFO 140168011298624] Final configuration: {'backbone': 'resnet-50', 'algorithm': 'fcn', 'use_pretrained_model': 'True', 'crop_size': '240', 'epochs': '10', 'learning_rate': '0.0001', 'optimizer': 'rmsprop', 'lr_scheduler': 'poly', 'lr_scheduler_factor': '0.1', 'weight_decay': '0.0001', 'momentum': '0.9', 'gamma1': '0.9', 'gamma2': '0.9', 'mini_batch_size': '16', 'validation_mini_batch_size': '16', 'num_training_samples': '16', 'early_stopping_min_epochs': '10', 'early_stopping': 'True', 'early_stopping_patience': '2', 'early_stopping_tolerance': '0.0', 'precision_dtype': 'float32', '_kvstore': 'device', '_num_kv_servers': 'auto', 'syncbn': 'False', '_workers': '16', '_aux_loss': 'True', '_aux_weight': '0.5', '_hybrid': 'False', '_augmentation_type': 'default', '_logging_frequency': '20', 'num_classes': '21'}\n",
      "Process 13 is a worker.\n",
      "[01/12/2025 06:05:02 INFO 140168011298624] Using default worker.\n",
      "[01/12/2025 06:05:02 INFO 140168011298624] Loaded iterator creator application/json for content type ('application/json', '1.0')\n",
      "/opt/amazon/lib/python3.8/site-packages/matplotlib/pyplot.py:2422: SyntaxWarning: \"is\" with a literal. Did you mean \"==\"?\n",
      "  if fignum is False or fignum is 0:\n",
      "/opt/amazon/lib/python3.8/site-packages/matplotlib/contour.py:871: SyntaxWarning: \"is not\" with a literal. Did you mean \"!=\"?\n",
      "  if self.extend is not 'neither':\n",
      "[01/12/2025 06:05:02 INFO 140168011298624] font search path ['/opt/amazon/lib/python3.8/site-packages/matplotlib/mpl-data/fonts/ttf', '/opt/amazon/lib/python3.8/site-packages/matplotlib/mpl-data/fonts/afm', '/opt/amazon/lib/python3.8/site-packages/matplotlib/mpl-data/fonts/pdfcorefonts']\n",
      "[01/12/2025 06:05:02 INFO 140168011298624] generated new fontManager\n",
      "/opt/amazon/lib/python3.8/site-packages/scipy/io/netcdf.py:770: SyntaxWarning: \"is not\" with a literal. Did you mean \"!=\"?\n",
      "  if typecode is not 'c':\n",
      "[01/12/2025 06:05:03 INFO 140168011298624] Loaded iterator creator application/x-image for content type ('application/x-image', '1.0')\n",
      "[01/12/2025 06:05:03 INFO 140168011298624] Loaded iterator creator application/x-recordio for content type ('application/x-recordio', '1.0')\n",
      "[01/12/2025 06:05:03 INFO 140168011298624] Loaded iterator creator image/jpeg for content type ('image/jpeg', '1.0')\n",
      "[01/12/2025 06:05:03 INFO 140168011298624] Loaded iterator creator image/png for content type ('image/png', '1.0')\n",
      "[01/12/2025 06:05:03 INFO 140168011298624] Checkpoint loading and saving are disabled.\n",
      "[01/12/2025 06:05:03 WARNING 140168011298624] /opt/ml/input/data/train/train_annotation is not a readable image file\n",
      "[01/12/2025 06:05:03 WARNING 140168011298624] label maps not provided, using defaults.\n",
      "[01/12/2025 06:05:03 INFO 140168011298624] #label_map train :{'scale': 1}\n",
      "[01/12/2025 06:05:03 WARNING 140168011298624] /opt/ml/input/data/validation/validation_annotation is not a readable image file\n",
      "[01/12/2025 06:05:03 WARNING 140168011298624] label maps not provided, using defaults.\n",
      "[01/12/2025 06:05:03 INFO 140168011298624] #label_map validation :{'scale': 1}\n",
      "/opt/amazon/python3.8/lib/python3.8/subprocess.py:848: RuntimeWarning: line buffering (buffering=1) isn't supported in binary mode, the default buffer size will be used\n",
      "  self.stdout = io.open(c2pread, 'rb', bufsize)\n",
      "[01/12/2025 06:05:03 INFO 140168011298624] nvidia-smi: took 0.058 seconds to run.\n",
      "[01/12/2025 06:05:03 INFO 140168011298624] nvidia-smi identified 1 GPUs.\n",
      "[01/12/2025 06:05:03 INFO 140168011298624] Number of GPUs being used: 1\n",
      "[01/12/2025 06:05:03 INFO 140168011298624] Number of GPUs being used: 1\n",
      "[01/12/2025 06:05:03 INFO 140168011298624] Number of GPUs being used: 1\n",
      "[06:05:05] /opt/brazil-pkg-cache/packages/AIAlgorithmsMXNet/AIAlgorithmsMXNet-1.4.x_ecl_Cuda_11.1.x.441.0/AL2_x86_64/generic-flavor/src/src/storage/storage.cc:108: Using GPUPooledRoundedStorageManager.\n",
      "[01/12/2025 06:05:08 INFO 140168011298624] LRScheduler setup: iters per epoch: 1, num_epochs 10\n",
      "#metrics {\"StartTime\": 1736661908.1117198, \"EndTime\": 1736661908.1122096, \"Dimensions\": {\"Algorithm\": \"AWS/Semantic Segmentation\", \"Host\": \"algo-1\", \"Operation\": \"training\", \"Meta\": \"init_train_data_iter\"}, \"Metrics\": {\"Total Records Seen\": {\"sum\": 0.0, \"count\": 1, \"min\": 0, \"max\": 0}, \"Total Batches Seen\": {\"sum\": 0.0, \"count\": 1, \"min\": 0, \"max\": 0}, \"Max Records Seen Between Resets\": {\"sum\": 0.0, \"count\": 1, \"min\": 0, \"max\": 0}, \"Max Batches Seen Between Resets\": {\"sum\": 0.0, \"count\": 1, \"min\": 0, \"max\": 0}, \"Reset Count\": {\"sum\": 0.0, \"count\": 1, \"min\": 0, \"max\": 0}, \"Number of Records Since Last Reset\": {\"sum\": 0.0, \"count\": 1, \"min\": 0, \"max\": 0}, \"Number of Batches Since Last Reset\": {\"sum\": 0.0, \"count\": 1, \"min\": 0, \"max\": 0}}}\n",
      "[01/12/2025 06:05:08 INFO 140168011298624] #quality_metric. host: algo-1, epoch: 0, train loss: 4.681438446044922 .\n",
      "[01/12/2025 06:05:08 INFO 140168011298624] #throughput_metric. host: algo-1, epoch: 0, train throughput: 35.414508214975136 samples/sec.\n",
      "[01/12/2025 06:05:09 INFO 140168011298624] #quality_metric. host: algo-1, epoch: 0, validation pixel_accuracy: 0.0944587169425443 .\n",
      "[01/12/2025 06:05:09 INFO 140168011298624] #quality_metric. host: algo-1, epoch: 0, validation mIOU: 0.02656264030484254 .\n",
      "[01/12/2025 06:05:09 INFO 140168011298624] #throughput_metric. host: algo-1, epoch: 0, validation throughput: 46.23854283080307 samples/sec.\n",
      "[01/12/2025 06:05:09 INFO 140168011298624] Serializing model to /opt/ml/model/model_best.params\n",
      "[01/12/2025 06:05:09 INFO 140168011298624] Serializing model to /opt/ml/model/model_best.params\n",
      "[01/12/2025 06:05:09 INFO 140168011298624] #progress_metric: host=algo-1, completed 10.0 % of epochs\n",
      "#metrics {\"StartTime\": 1736661908.1139717, \"EndTime\": 1736661909.8809783, \"Dimensions\": {\"Algorithm\": \"AWS/Semantic Segmentation\", \"Host\": \"algo-1\", \"Operation\": \"training\", \"epoch\": 0, \"Meta\": \"training_data_iter\"}, \"Metrics\": {\"Total Records Seen\": {\"sum\": 0.0, \"count\": 1, \"min\": 0, \"max\": 0}, \"Total Batches Seen\": {\"sum\": 0.0, \"count\": 1, \"min\": 0, \"max\": 0}, \"Max Records Seen Between Resets\": {\"sum\": 0.0, \"count\": 1, \"min\": 0, \"max\": 0}, \"Max Batches Seen Between Resets\": {\"sum\": 0.0, \"count\": 1, \"min\": 0, \"max\": 0}, \"Reset Count\": {\"sum\": 1.0, \"count\": 1, \"min\": 1, \"max\": 1}, \"Number of Records Since Last Reset\": {\"sum\": 0.0, \"count\": 1, \"min\": 0, \"max\": 0}, \"Number of Batches Since Last Reset\": {\"sum\": 0.0, \"count\": 1, \"min\": 0, \"max\": 0}}}\n",
      "\n",
      "2025-01-12 06:05:25 Uploading - Uploading generated training model[01/12/2025 06:05:10 INFO 140168011298624] #quality_metric. host: algo-1, epoch: 1, train loss: 3.2900538444519043 .\n",
      "[01/12/2025 06:05:10 INFO 140168011298624] #throughput_metric. host: algo-1, epoch: 1, train throughput: 49.01337209090013 samples/sec.\n",
      "[01/12/2025 06:05:11 INFO 140168011298624] #quality_metric. host: algo-1, epoch: 1, validation pixel_accuracy: 0.2742956321570273 .\n",
      "[01/12/2025 06:05:11 INFO 140168011298624] #quality_metric. host: algo-1, epoch: 1, validation mIOU: 0.06395366179860972 .\n",
      "[01/12/2025 06:05:11 INFO 140168011298624] #throughput_metric. host: algo-1, epoch: 1, validation throughput: 46.3985154436177 samples/sec.\n",
      "[01/12/2025 06:05:11 INFO 140168011298624] Serializing model to /opt/ml/model/model_best.params\n",
      "[01/12/2025 06:05:11 INFO 140168011298624] #progress_metric: host=algo-1, completed 20.0 % of epochs\n",
      "#metrics {\"StartTime\": 1736661909.881184, \"EndTime\": 1736661911.3671603, \"Dimensions\": {\"Algorithm\": \"AWS/Semantic Segmentation\", \"Host\": \"algo-1\", \"Operation\": \"training\", \"epoch\": 1, \"Meta\": \"training_data_iter\"}, \"Metrics\": {\"Total Records Seen\": {\"sum\": 0.0, \"count\": 1, \"min\": 0, \"max\": 0}, \"Total Batches Seen\": {\"sum\": 0.0, \"count\": 1, \"min\": 0, \"max\": 0}, \"Max Records Seen Between Resets\": {\"sum\": 0.0, \"count\": 1, \"min\": 0, \"max\": 0}, \"Max Batches Seen Between Resets\": {\"sum\": 0.0, \"count\": 1, \"min\": 0, \"max\": 0}, \"Reset Count\": {\"sum\": 2.0, \"count\": 1, \"min\": 2, \"max\": 2}, \"Number of Records Since Last Reset\": {\"sum\": 0.0, \"count\": 1, \"min\": 0, \"max\": 0}, \"Number of Batches Since Last Reset\": {\"sum\": 0.0, \"count\": 1, \"min\": 0, \"max\": 0}}}\n",
      "[01/12/2025 06:05:11 INFO 140168011298624] #quality_metric. host: algo-1, epoch: 2, train loss: 2.7503182888031006 .\n",
      "[01/12/2025 06:05:11 INFO 140168011298624] #throughput_metric. host: algo-1, epoch: 2, train throughput: 50.53614250062879 samples/sec.\n",
      "[01/12/2025 06:05:12 INFO 140168011298624] #quality_metric. host: algo-1, epoch: 2, validation pixel_accuracy: 0.3691292171219536 .\n",
      "[01/12/2025 06:05:12 INFO 140168011298624] #quality_metric. host: algo-1, epoch: 2, validation mIOU: 0.08338863586428007 .\n",
      "[01/12/2025 06:05:12 INFO 140168011298624] #throughput_metric. host: algo-1, epoch: 2, validation throughput: 46.25339376495628 samples/sec.\n",
      "[01/12/2025 06:05:12 INFO 140168011298624] Serializing model to /opt/ml/model/model_best.params\n",
      "[01/12/2025 06:05:12 INFO 140168011298624] #progress_metric: host=algo-1, completed 30.0 % of epochs\n",
      "#metrics {\"StartTime\": 1736661911.3673341, \"EndTime\": 1736661912.7684102, \"Dimensions\": {\"Algorithm\": \"AWS/Semantic Segmentation\", \"Host\": \"algo-1\", \"Operation\": \"training\", \"epoch\": 2, \"Meta\": \"training_data_iter\"}, \"Metrics\": {\"Total Records Seen\": {\"sum\": 0.0, \"count\": 1, \"min\": 0, \"max\": 0}, \"Total Batches Seen\": {\"sum\": 0.0, \"count\": 1, \"min\": 0, \"max\": 0}, \"Max Records Seen Between Resets\": {\"sum\": 0.0, \"count\": 1, \"min\": 0, \"max\": 0}, \"Max Batches Seen Between Resets\": {\"sum\": 0.0, \"count\": 1, \"min\": 0, \"max\": 0}, \"Reset Count\": {\"sum\": 3.0, \"count\": 1, \"min\": 3, \"max\": 3}, \"Number of Records Since Last Reset\": {\"sum\": 0.0, \"count\": 1, \"min\": 0, \"max\": 0}, \"Number of Batches Since Last Reset\": {\"sum\": 0.0, \"count\": 1, \"min\": 0, \"max\": 0}}}\n",
      "[01/12/2025 06:05:13 INFO 140168011298624] #quality_metric. host: algo-1, epoch: 3, train loss: 2.1442110538482666 .\n",
      "[01/12/2025 06:05:13 INFO 140168011298624] #throughput_metric. host: algo-1, epoch: 3, train throughput: 50.48941479889284 samples/sec.\n",
      "[01/12/2025 06:05:13 INFO 140168011298624] #quality_metric. host: algo-1, epoch: 3, validation pixel_accuracy: 0.40385323057134703 .\n",
      "[01/12/2025 06:05:13 INFO 140168011298624] #quality_metric. host: algo-1, epoch: 3, validation mIOU: 0.0901293085326963 .\n",
      "[01/12/2025 06:05:13 INFO 140168011298624] #throughput_metric. host: algo-1, epoch: 3, validation throughput: 46.52628630616215 samples/sec.\n",
      "[01/12/2025 06:05:13 INFO 140168011298624] Serializing model to /opt/ml/model/model_best.params\n",
      "[01/12/2025 06:05:14 INFO 140168011298624] #progress_metric: host=algo-1, completed 40.0 % of epochs\n",
      "#metrics {\"StartTime\": 1736661912.768592, \"EndTime\": 1736661914.1853578, \"Dimensions\": {\"Algorithm\": \"AWS/Semantic Segmentation\", \"Host\": \"algo-1\", \"Operation\": \"training\", \"epoch\": 3, \"Meta\": \"training_data_iter\"}, \"Metrics\": {\"Total Records Seen\": {\"sum\": 0.0, \"count\": 1, \"min\": 0, \"max\": 0}, \"Total Batches Seen\": {\"sum\": 0.0, \"count\": 1, \"min\": 0, \"max\": 0}, \"Max Records Seen Between Resets\": {\"sum\": 0.0, \"count\": 1, \"min\": 0, \"max\": 0}, \"Max Batches Seen Between Resets\": {\"sum\": 0.0, \"count\": 1, \"min\": 0, \"max\": 0}, \"Reset Count\": {\"sum\": 4.0, \"count\": 1, \"min\": 4, \"max\": 4}, \"Number of Records Since Last Reset\": {\"sum\": 0.0, \"count\": 1, \"min\": 0, \"max\": 0}, \"Number of Batches Since Last Reset\": {\"sum\": 0.0, \"count\": 1, \"min\": 0, \"max\": 0}}}\n",
      "[01/12/2025 06:05:14 INFO 140168011298624] #quality_metric. host: algo-1, epoch: 4, train loss: 1.8830091953277588 .\n",
      "[01/12/2025 06:05:14 INFO 140168011298624] #throughput_metric. host: algo-1, epoch: 4, train throughput: 50.45616119178102 samples/sec.\n",
      "[01/12/2025 06:05:15 INFO 140168011298624] #quality_metric. host: algo-1, epoch: 4, validation pixel_accuracy: 0.5047385840076946 .\n",
      "[01/12/2025 06:05:15 INFO 140168011298624] #quality_metric. host: algo-1, epoch: 4, validation mIOU: 0.10909116389693528 .\n",
      "[01/12/2025 06:05:15 INFO 140168011298624] #throughput_metric. host: algo-1, epoch: 4, validation throughput: 46.163256012640595 samples/sec.\n",
      "[01/12/2025 06:05:15 INFO 140168011298624] Serializing model to /opt/ml/model/model_best.params\n",
      "[01/12/2025 06:05:15 INFO 140168011298624] #progress_metric: host=algo-1, completed 50.0 % of epochs\n",
      "#metrics {\"StartTime\": 1736661914.1855438, \"EndTime\": 1736661915.6116183, \"Dimensions\": {\"Algorithm\": \"AWS/Semantic Segmentation\", \"Host\": \"algo-1\", \"Operation\": \"training\", \"epoch\": 4, \"Meta\": \"training_data_iter\"}, \"Metrics\": {\"Total Records Seen\": {\"sum\": 0.0, \"count\": 1, \"min\": 0, \"max\": 0}, \"Total Batches Seen\": {\"sum\": 0.0, \"count\": 1, \"min\": 0, \"max\": 0}, \"Max Records Seen Between Resets\": {\"sum\": 0.0, \"count\": 1, \"min\": 0, \"max\": 0}, \"Max Batches Seen Between Resets\": {\"sum\": 0.0, \"count\": 1, \"min\": 0, \"max\": 0}, \"Reset Count\": {\"sum\": 5.0, \"count\": 1, \"min\": 5, \"max\": 5}, \"Number of Records Since Last Reset\": {\"sum\": 0.0, \"count\": 1, \"min\": 0, \"max\": 0}, \"Number of Batches Since Last Reset\": {\"sum\": 0.0, \"count\": 1, \"min\": 0, \"max\": 0}}}\n",
      "[01/12/2025 06:05:16 INFO 140168011298624] #quality_metric. host: algo-1, epoch: 5, train loss: 1.5862855911254883 .\n",
      "[01/12/2025 06:05:16 INFO 140168011298624] #throughput_metric. host: algo-1, epoch: 5, train throughput: 50.65909573002495 samples/sec.\n",
      "[01/12/2025 06:05:16 INFO 140168011298624] #quality_metric. host: algo-1, epoch: 5, validation pixel_accuracy: 0.4866715502684261 .\n",
      "[01/12/2025 06:05:16 INFO 140168011298624] #quality_metric. host: algo-1, epoch: 5, validation mIOU: 0.10213238335653411 .\n",
      "[01/12/2025 06:05:16 INFO 140168011298624] #throughput_metric. host: algo-1, epoch: 5, validation throughput: 46.46372846057128 samples/sec.\n",
      "[01/12/2025 06:05:16 INFO 140168011298624] #progress_metric: host=algo-1, completed 60.0 % of epochs\n",
      "#metrics {\"StartTime\": 1736661915.6117887, \"EndTime\": 1736661916.819841, \"Dimensions\": {\"Algorithm\": \"AWS/Semantic Segmentation\", \"Host\": \"algo-1\", \"Operation\": \"training\", \"epoch\": 5, \"Meta\": \"training_data_iter\"}, \"Metrics\": {\"Total Records Seen\": {\"sum\": 0.0, \"count\": 1, \"min\": 0, \"max\": 0}, \"Total Batches Seen\": {\"sum\": 0.0, \"count\": 1, \"min\": 0, \"max\": 0}, \"Max Records Seen Between Resets\": {\"sum\": 0.0, \"count\": 1, \"min\": 0, \"max\": 0}, \"Max Batches Seen Between Resets\": {\"sum\": 0.0, \"count\": 1, \"min\": 0, \"max\": 0}, \"Reset Count\": {\"sum\": 6.0, \"count\": 1, \"min\": 6, \"max\": 6}, \"Number of Records Since Last Reset\": {\"sum\": 0.0, \"count\": 1, \"min\": 0, \"max\": 0}, \"Number of Batches Since Last Reset\": {\"sum\": 0.0, \"count\": 1, \"min\": 0, \"max\": 0}}}\n",
      "[01/12/2025 06:05:17 INFO 140168011298624] #quality_metric. host: algo-1, epoch: 6, train loss: 1.605574131011963 .\n",
      "[01/12/2025 06:05:17 INFO 140168011298624] #throughput_metric. host: algo-1, epoch: 6, train throughput: 50.67145074872092 samples/sec.\n",
      "[01/12/2025 06:05:18 INFO 140168011298624] #quality_metric. host: algo-1, epoch: 6, validation pixel_accuracy: 0.5078028721539549 .\n",
      "[01/12/2025 06:05:18 INFO 140168011298624] #quality_metric. host: algo-1, epoch: 6, validation mIOU: 0.10640558805403788 .\n",
      "[01/12/2025 06:05:18 INFO 140168011298624] #throughput_metric. host: algo-1, epoch: 6, validation throughput: 46.48925311821328 samples/sec.\n",
      "[01/12/2025 06:05:18 INFO 140168011298624] #progress_metric: host=algo-1, completed 70.0 % of epochs\n",
      "#metrics {\"StartTime\": 1736661916.820065, \"EndTime\": 1736661918.0214965, \"Dimensions\": {\"Algorithm\": \"AWS/Semantic Segmentation\", \"Host\": \"algo-1\", \"Operation\": \"training\", \"epoch\": 6, \"Meta\": \"training_data_iter\"}, \"Metrics\": {\"Total Records Seen\": {\"sum\": 0.0, \"count\": 1, \"min\": 0, \"max\": 0}, \"Total Batches Seen\": {\"sum\": 0.0, \"count\": 1, \"min\": 0, \"max\": 0}, \"Max Records Seen Between Resets\": {\"sum\": 0.0, \"count\": 1, \"min\": 0, \"max\": 0}, \"Max Batches Seen Between Resets\": {\"sum\": 0.0, \"count\": 1, \"min\": 0, \"max\": 0}, \"Reset Count\": {\"sum\": 7.0, \"count\": 1, \"min\": 7, \"max\": 7}, \"Number of Records Since Last Reset\": {\"sum\": 0.0, \"count\": 1, \"min\": 0, \"max\": 0}, \"Number of Batches Since Last Reset\": {\"sum\": 0.0, \"count\": 1, \"min\": 0, \"max\": 0}}}\n",
      "[01/12/2025 06:05:18 INFO 140168011298624] #quality_metric. host: algo-1, epoch: 7, train loss: 1.4201704263687134 .\n",
      "[01/12/2025 06:05:18 INFO 140168011298624] #throughput_metric. host: algo-1, epoch: 7, train throughput: 50.874350130011905 samples/sec.\n",
      "[01/12/2025 06:05:19 INFO 140168011298624] #quality_metric. host: algo-1, epoch: 7, validation pixel_accuracy: 0.5399738853408261 .\n",
      "[01/12/2025 06:05:19 INFO 140168011298624] #quality_metric. host: algo-1, epoch: 7, validation mIOU: 0.1167068974453658 .\n",
      "[01/12/2025 06:05:19 INFO 140168011298624] #throughput_metric. host: algo-1, epoch: 7, validation throughput: 46.23290452409477 samples/sec.\n",
      "[01/12/2025 06:05:19 INFO 140168011298624] Serializing model to /opt/ml/model/model_best.params\n",
      "[01/12/2025 06:05:19 INFO 140168011298624] #progress_metric: host=algo-1, completed 80.0 % of epochs\n",
      "#metrics {\"StartTime\": 1736661918.02167, \"EndTime\": 1736661919.4339538, \"Dimensions\": {\"Algorithm\": \"AWS/Semantic Segmentation\", \"Host\": \"algo-1\", \"Operation\": \"training\", \"epoch\": 7, \"Meta\": \"training_data_iter\"}, \"Metrics\": {\"Total Records Seen\": {\"sum\": 0.0, \"count\": 1, \"min\": 0, \"max\": 0}, \"Total Batches Seen\": {\"sum\": 0.0, \"count\": 1, \"min\": 0, \"max\": 0}, \"Max Records Seen Between Resets\": {\"sum\": 0.0, \"count\": 1, \"min\": 0, \"max\": 0}, \"Max Batches Seen Between Resets\": {\"sum\": 0.0, \"count\": 1, \"min\": 0, \"max\": 0}, \"Reset Count\": {\"sum\": 8.0, \"count\": 1, \"min\": 8, \"max\": 8}, \"Number of Records Since Last Reset\": {\"sum\": 0.0, \"count\": 1, \"min\": 0, \"max\": 0}, \"Number of Batches Since Last Reset\": {\"sum\": 0.0, \"count\": 1, \"min\": 0, \"max\": 0}}}\n",
      "[01/12/2025 06:05:20 INFO 140168011298624] #quality_metric. host: algo-1, epoch: 8, train loss: 1.4849077463150024 .\n",
      "[01/12/2025 06:05:20 INFO 140168011298624] #throughput_metric. host: algo-1, epoch: 8, train throughput: 50.515296359916476 samples/sec.\n",
      "[01/12/2025 06:05:20 INFO 140168011298624] #quality_metric. host: algo-1, epoch: 8, validation pixel_accuracy: 0.5587860695833003 .\n",
      "[01/12/2025 06:05:20 INFO 140168011298624] #quality_metric. host: algo-1, epoch: 8, validation mIOU: 0.12137060885965416 .\n",
      "[01/12/2025 06:05:20 INFO 140168011298624] #throughput_metric. host: algo-1, epoch: 8, validation throughput: 46.17211737589872 samples/sec.\n",
      "[01/12/2025 06:05:20 INFO 140168011298624] Serializing model to /opt/ml/model/model_best.params\n",
      "[01/12/2025 06:05:20 INFO 140168011298624] #progress_metric: host=algo-1, completed 90.0 % of epochs\n",
      "#metrics {\"StartTime\": 1736661919.434166, \"EndTime\": 1736661920.8755507, \"Dimensions\": {\"Algorithm\": \"AWS/Semantic Segmentation\", \"Host\": \"algo-1\", \"Operation\": \"training\", \"epoch\": 8, \"Meta\": \"training_data_iter\"}, \"Metrics\": {\"Total Records Seen\": {\"sum\": 0.0, \"count\": 1, \"min\": 0, \"max\": 0}, \"Total Batches Seen\": {\"sum\": 0.0, \"count\": 1, \"min\": 0, \"max\": 0}, \"Max Records Seen Between Resets\": {\"sum\": 0.0, \"count\": 1, \"min\": 0, \"max\": 0}, \"Max Batches Seen Between Resets\": {\"sum\": 0.0, \"count\": 1, \"min\": 0, \"max\": 0}, \"Reset Count\": {\"sum\": 9.0, \"count\": 1, \"min\": 9, \"max\": 9}, \"Number of Records Since Last Reset\": {\"sum\": 0.0, \"count\": 1, \"min\": 0, \"max\": 0}, \"Number of Batches Since Last Reset\": {\"sum\": 0.0, \"count\": 1, \"min\": 0, \"max\": 0}}}\n",
      "[01/12/2025 06:05:21 INFO 140168011298624] #quality_metric. host: algo-1, epoch: 9, train loss: 1.6382761001586914 .\n",
      "[01/12/2025 06:05:21 INFO 140168011298624] #throughput_metric. host: algo-1, epoch: 9, train throughput: 50.60275224515341 samples/sec.\n",
      "[01/12/2025 06:05:22 INFO 140168011298624] #quality_metric. host: algo-1, epoch: 9, validation pixel_accuracy: 0.5693763778119401 .\n",
      "[01/12/2025 06:05:22 INFO 140168011298624] #quality_metric. host: algo-1, epoch: 9, validation mIOU: 0.12426159304613238 .\n",
      "[01/12/2025 06:05:22 INFO 140168011298624] #throughput_metric. host: algo-1, epoch: 9, validation throughput: 45.4102241385377 samples/sec.\n",
      "[01/12/2025 06:05:22 INFO 140168011298624] Serializing model to /opt/ml/model/model_best.params\n",
      "[01/12/2025 06:05:22 INFO 140168011298624] #progress_metric: host=algo-1, completed 100.0 % of epochs\n",
      "#metrics {\"StartTime\": 1736661920.8757045, \"EndTime\": 1736661922.3229663, \"Dimensions\": {\"Algorithm\": \"AWS/Semantic Segmentation\", \"Host\": \"algo-1\", \"Operation\": \"training\", \"epoch\": 9, \"Meta\": \"training_data_iter\"}, \"Metrics\": {\"Total Records Seen\": {\"sum\": 0.0, \"count\": 1, \"min\": 0, \"max\": 0}, \"Total Batches Seen\": {\"sum\": 0.0, \"count\": 1, \"min\": 0, \"max\": 0}, \"Max Records Seen Between Resets\": {\"sum\": 0.0, \"count\": 1, \"min\": 0, \"max\": 0}, \"Max Batches Seen Between Resets\": {\"sum\": 0.0, \"count\": 1, \"min\": 0, \"max\": 0}, \"Reset Count\": {\"sum\": 10.0, \"count\": 1, \"min\": 10, \"max\": 10}, \"Number of Records Since Last Reset\": {\"sum\": 0.0, \"count\": 1, \"min\": 0, \"max\": 0}, \"Number of Batches Since Last Reset\": {\"sum\": 0.0, \"count\": 1, \"min\": 0, \"max\": 0}}}\n",
      "[01/12/2025 06:05:22 WARNING 140168011298624] wait_for_all_workers will not sync workers since the kv store is not running distributed\n",
      "[01/12/2025 06:05:22 INFO 140168011298624] Serializing model to /opt/ml/model/model_algo-1\n",
      "[01/12/2025 06:05:22 INFO 140168011298624] Test data is not provided.\n",
      "#metrics {\"StartTime\": 1736661903.728561, \"EndTime\": 1736661922.5363557, \"Dimensions\": {\"Algorithm\": \"AWS/Semantic Segmentation\", \"Host\": \"algo-1\", \"Operation\": \"training\"}, \"Metrics\": {\"epochs\": {\"sum\": 10.0, \"count\": 1, \"min\": 10, \"max\": 10}, \"setuptime\": {\"sum\": 13.373136520385742, \"count\": 1, \"min\": 13.373136520385742, \"max\": 13.373136520385742}, \"totaltime\": {\"sum\": 20073.00567626953, \"count\": 1, \"min\": 20073.00567626953, \"max\": 20073.00567626953}}}\n",
      "\n",
      "2025-01-12 06:05:43 Completed - Training job completed\n",
      "Training seconds: 271\n",
      "Billable seconds: 271\n"
     ]
    }
   ],
   "source": [
    "assert model.train(\n",
    "    dataset_object_name=dataset_object_name,\n",
    "    model_object_name=model_object_name,\n",
    ")"
   ]
  },
  {
   "cell_type": "code",
   "execution_count": null,
   "metadata": {},
   "outputs": [
    {
     "name": "stderr",
     "output_type": "stream",
     "text": [
      "sagemaker Creating model with name: sagesemseg-model-2025-01-11-22-00-08-bW-2025-01-12-06-06-09-843\n",
      "sagemaker Creating endpoint-config with name sagesemseg-model-2025-01-11-22-00-08-bW-2025-01-12-06-06-09-843\n",
      "sagemaker Creating endpoint with name sagesemseg-model-2025-01-11-22-00-08-bW-2025-01-12-06-06-09-843\n"
     ]
    },
    {
     "name": "stdout",
     "output_type": "stream",
     "text": [
      "--"
     ]
    }
   ],
   "source": [
    "model.deploy(initial_instance_count=1, instance_type=\"ml.c5.xlarge\")"
   ]
  },
  {
   "cell_type": "code",
   "execution_count": null,
   "metadata": {},
   "outputs": [],
   "source": [
    "# assert False\n",
    "model.delete_endpoint()"
   ]
  },
  {
   "cell_type": "code",
   "execution_count": null,
   "metadata": {},
   "outputs": [],
   "source": [
    "assert notebooks.upload(model_object_name)"
   ]
  },
  {
   "cell_type": "code",
   "execution_count": null,
   "metadata": {},
   "outputs": [],
   "source": [
    "# END"
   ]
  }
 ],
 "metadata": {
  "availableInstances": [
   {
    "_defaultOrder": 0,
    "_isFastLaunch": true,
    "category": "General purpose",
    "gpuNum": 0,
    "hideHardwareSpecs": false,
    "memoryGiB": 4,
    "name": "ml.t3.medium",
    "vcpuNum": 2
   },
   {
    "_defaultOrder": 1,
    "_isFastLaunch": false,
    "category": "General purpose",
    "gpuNum": 0,
    "hideHardwareSpecs": false,
    "memoryGiB": 8,
    "name": "ml.t3.large",
    "vcpuNum": 2
   },
   {
    "_defaultOrder": 2,
    "_isFastLaunch": false,
    "category": "General purpose",
    "gpuNum": 0,
    "hideHardwareSpecs": false,
    "memoryGiB": 16,
    "name": "ml.t3.xlarge",
    "vcpuNum": 4
   },
   {
    "_defaultOrder": 3,
    "_isFastLaunch": false,
    "category": "General purpose",
    "gpuNum": 0,
    "hideHardwareSpecs": false,
    "memoryGiB": 32,
    "name": "ml.t3.2xlarge",
    "vcpuNum": 8
   },
   {
    "_defaultOrder": 4,
    "_isFastLaunch": true,
    "category": "General purpose",
    "gpuNum": 0,
    "hideHardwareSpecs": false,
    "memoryGiB": 8,
    "name": "ml.m5.large",
    "vcpuNum": 2
   },
   {
    "_defaultOrder": 5,
    "_isFastLaunch": false,
    "category": "General purpose",
    "gpuNum": 0,
    "hideHardwareSpecs": false,
    "memoryGiB": 16,
    "name": "ml.m5.xlarge",
    "vcpuNum": 4
   },
   {
    "_defaultOrder": 6,
    "_isFastLaunch": false,
    "category": "General purpose",
    "gpuNum": 0,
    "hideHardwareSpecs": false,
    "memoryGiB": 32,
    "name": "ml.m5.2xlarge",
    "vcpuNum": 8
   },
   {
    "_defaultOrder": 7,
    "_isFastLaunch": false,
    "category": "General purpose",
    "gpuNum": 0,
    "hideHardwareSpecs": false,
    "memoryGiB": 64,
    "name": "ml.m5.4xlarge",
    "vcpuNum": 16
   },
   {
    "_defaultOrder": 8,
    "_isFastLaunch": false,
    "category": "General purpose",
    "gpuNum": 0,
    "hideHardwareSpecs": false,
    "memoryGiB": 128,
    "name": "ml.m5.8xlarge",
    "vcpuNum": 32
   },
   {
    "_defaultOrder": 9,
    "_isFastLaunch": false,
    "category": "General purpose",
    "gpuNum": 0,
    "hideHardwareSpecs": false,
    "memoryGiB": 192,
    "name": "ml.m5.12xlarge",
    "vcpuNum": 48
   },
   {
    "_defaultOrder": 10,
    "_isFastLaunch": false,
    "category": "General purpose",
    "gpuNum": 0,
    "hideHardwareSpecs": false,
    "memoryGiB": 256,
    "name": "ml.m5.16xlarge",
    "vcpuNum": 64
   },
   {
    "_defaultOrder": 11,
    "_isFastLaunch": false,
    "category": "General purpose",
    "gpuNum": 0,
    "hideHardwareSpecs": false,
    "memoryGiB": 384,
    "name": "ml.m5.24xlarge",
    "vcpuNum": 96
   },
   {
    "_defaultOrder": 12,
    "_isFastLaunch": false,
    "category": "General purpose",
    "gpuNum": 0,
    "hideHardwareSpecs": false,
    "memoryGiB": 8,
    "name": "ml.m5d.large",
    "vcpuNum": 2
   },
   {
    "_defaultOrder": 13,
    "_isFastLaunch": false,
    "category": "General purpose",
    "gpuNum": 0,
    "hideHardwareSpecs": false,
    "memoryGiB": 16,
    "name": "ml.m5d.xlarge",
    "vcpuNum": 4
   },
   {
    "_defaultOrder": 14,
    "_isFastLaunch": false,
    "category": "General purpose",
    "gpuNum": 0,
    "hideHardwareSpecs": false,
    "memoryGiB": 32,
    "name": "ml.m5d.2xlarge",
    "vcpuNum": 8
   },
   {
    "_defaultOrder": 15,
    "_isFastLaunch": false,
    "category": "General purpose",
    "gpuNum": 0,
    "hideHardwareSpecs": false,
    "memoryGiB": 64,
    "name": "ml.m5d.4xlarge",
    "vcpuNum": 16
   },
   {
    "_defaultOrder": 16,
    "_isFastLaunch": false,
    "category": "General purpose",
    "gpuNum": 0,
    "hideHardwareSpecs": false,
    "memoryGiB": 128,
    "name": "ml.m5d.8xlarge",
    "vcpuNum": 32
   },
   {
    "_defaultOrder": 17,
    "_isFastLaunch": false,
    "category": "General purpose",
    "gpuNum": 0,
    "hideHardwareSpecs": false,
    "memoryGiB": 192,
    "name": "ml.m5d.12xlarge",
    "vcpuNum": 48
   },
   {
    "_defaultOrder": 18,
    "_isFastLaunch": false,
    "category": "General purpose",
    "gpuNum": 0,
    "hideHardwareSpecs": false,
    "memoryGiB": 256,
    "name": "ml.m5d.16xlarge",
    "vcpuNum": 64
   },
   {
    "_defaultOrder": 19,
    "_isFastLaunch": false,
    "category": "General purpose",
    "gpuNum": 0,
    "hideHardwareSpecs": false,
    "memoryGiB": 384,
    "name": "ml.m5d.24xlarge",
    "vcpuNum": 96
   },
   {
    "_defaultOrder": 20,
    "_isFastLaunch": false,
    "category": "General purpose",
    "gpuNum": 0,
    "hideHardwareSpecs": true,
    "memoryGiB": 0,
    "name": "ml.geospatial.interactive",
    "supportedImageNames": [
     "sagemaker-geospatial-v1-0"
    ],
    "vcpuNum": 0
   },
   {
    "_defaultOrder": 21,
    "_isFastLaunch": true,
    "category": "Compute optimized",
    "gpuNum": 0,
    "hideHardwareSpecs": false,
    "memoryGiB": 4,
    "name": "ml.c5.large",
    "vcpuNum": 2
   },
   {
    "_defaultOrder": 22,
    "_isFastLaunch": false,
    "category": "Compute optimized",
    "gpuNum": 0,
    "hideHardwareSpecs": false,
    "memoryGiB": 8,
    "name": "ml.c5.xlarge",
    "vcpuNum": 4
   },
   {
    "_defaultOrder": 23,
    "_isFastLaunch": false,
    "category": "Compute optimized",
    "gpuNum": 0,
    "hideHardwareSpecs": false,
    "memoryGiB": 16,
    "name": "ml.c5.2xlarge",
    "vcpuNum": 8
   },
   {
    "_defaultOrder": 24,
    "_isFastLaunch": false,
    "category": "Compute optimized",
    "gpuNum": 0,
    "hideHardwareSpecs": false,
    "memoryGiB": 32,
    "name": "ml.c5.4xlarge",
    "vcpuNum": 16
   },
   {
    "_defaultOrder": 25,
    "_isFastLaunch": false,
    "category": "Compute optimized",
    "gpuNum": 0,
    "hideHardwareSpecs": false,
    "memoryGiB": 72,
    "name": "ml.c5.9xlarge",
    "vcpuNum": 36
   },
   {
    "_defaultOrder": 26,
    "_isFastLaunch": false,
    "category": "Compute optimized",
    "gpuNum": 0,
    "hideHardwareSpecs": false,
    "memoryGiB": 96,
    "name": "ml.c5.12xlarge",
    "vcpuNum": 48
   },
   {
    "_defaultOrder": 27,
    "_isFastLaunch": false,
    "category": "Compute optimized",
    "gpuNum": 0,
    "hideHardwareSpecs": false,
    "memoryGiB": 144,
    "name": "ml.c5.18xlarge",
    "vcpuNum": 72
   },
   {
    "_defaultOrder": 28,
    "_isFastLaunch": false,
    "category": "Compute optimized",
    "gpuNum": 0,
    "hideHardwareSpecs": false,
    "memoryGiB": 192,
    "name": "ml.c5.24xlarge",
    "vcpuNum": 96
   },
   {
    "_defaultOrder": 29,
    "_isFastLaunch": true,
    "category": "Accelerated computing",
    "gpuNum": 1,
    "hideHardwareSpecs": false,
    "memoryGiB": 16,
    "name": "ml.g4dn.xlarge",
    "vcpuNum": 4
   },
   {
    "_defaultOrder": 30,
    "_isFastLaunch": false,
    "category": "Accelerated computing",
    "gpuNum": 1,
    "hideHardwareSpecs": false,
    "memoryGiB": 32,
    "name": "ml.g4dn.2xlarge",
    "vcpuNum": 8
   },
   {
    "_defaultOrder": 31,
    "_isFastLaunch": false,
    "category": "Accelerated computing",
    "gpuNum": 1,
    "hideHardwareSpecs": false,
    "memoryGiB": 64,
    "name": "ml.g4dn.4xlarge",
    "vcpuNum": 16
   },
   {
    "_defaultOrder": 32,
    "_isFastLaunch": false,
    "category": "Accelerated computing",
    "gpuNum": 1,
    "hideHardwareSpecs": false,
    "memoryGiB": 128,
    "name": "ml.g4dn.8xlarge",
    "vcpuNum": 32
   },
   {
    "_defaultOrder": 33,
    "_isFastLaunch": false,
    "category": "Accelerated computing",
    "gpuNum": 4,
    "hideHardwareSpecs": false,
    "memoryGiB": 192,
    "name": "ml.g4dn.12xlarge",
    "vcpuNum": 48
   },
   {
    "_defaultOrder": 34,
    "_isFastLaunch": false,
    "category": "Accelerated computing",
    "gpuNum": 1,
    "hideHardwareSpecs": false,
    "memoryGiB": 256,
    "name": "ml.g4dn.16xlarge",
    "vcpuNum": 64
   },
   {
    "_defaultOrder": 35,
    "_isFastLaunch": false,
    "category": "Accelerated computing",
    "gpuNum": 1,
    "hideHardwareSpecs": false,
    "memoryGiB": 61,
    "name": "ml.p3.2xlarge",
    "vcpuNum": 8
   },
   {
    "_defaultOrder": 36,
    "_isFastLaunch": false,
    "category": "Accelerated computing",
    "gpuNum": 4,
    "hideHardwareSpecs": false,
    "memoryGiB": 244,
    "name": "ml.p3.8xlarge",
    "vcpuNum": 32
   },
   {
    "_defaultOrder": 37,
    "_isFastLaunch": false,
    "category": "Accelerated computing",
    "gpuNum": 8,
    "hideHardwareSpecs": false,
    "memoryGiB": 488,
    "name": "ml.p3.16xlarge",
    "vcpuNum": 64
   },
   {
    "_defaultOrder": 38,
    "_isFastLaunch": false,
    "category": "Accelerated computing",
    "gpuNum": 8,
    "hideHardwareSpecs": false,
    "memoryGiB": 768,
    "name": "ml.p3dn.24xlarge",
    "vcpuNum": 96
   },
   {
    "_defaultOrder": 39,
    "_isFastLaunch": false,
    "category": "Memory Optimized",
    "gpuNum": 0,
    "hideHardwareSpecs": false,
    "memoryGiB": 16,
    "name": "ml.r5.large",
    "vcpuNum": 2
   },
   {
    "_defaultOrder": 40,
    "_isFastLaunch": false,
    "category": "Memory Optimized",
    "gpuNum": 0,
    "hideHardwareSpecs": false,
    "memoryGiB": 32,
    "name": "ml.r5.xlarge",
    "vcpuNum": 4
   },
   {
    "_defaultOrder": 41,
    "_isFastLaunch": false,
    "category": "Memory Optimized",
    "gpuNum": 0,
    "hideHardwareSpecs": false,
    "memoryGiB": 64,
    "name": "ml.r5.2xlarge",
    "vcpuNum": 8
   },
   {
    "_defaultOrder": 42,
    "_isFastLaunch": false,
    "category": "Memory Optimized",
    "gpuNum": 0,
    "hideHardwareSpecs": false,
    "memoryGiB": 128,
    "name": "ml.r5.4xlarge",
    "vcpuNum": 16
   },
   {
    "_defaultOrder": 43,
    "_isFastLaunch": false,
    "category": "Memory Optimized",
    "gpuNum": 0,
    "hideHardwareSpecs": false,
    "memoryGiB": 256,
    "name": "ml.r5.8xlarge",
    "vcpuNum": 32
   },
   {
    "_defaultOrder": 44,
    "_isFastLaunch": false,
    "category": "Memory Optimized",
    "gpuNum": 0,
    "hideHardwareSpecs": false,
    "memoryGiB": 384,
    "name": "ml.r5.12xlarge",
    "vcpuNum": 48
   },
   {
    "_defaultOrder": 45,
    "_isFastLaunch": false,
    "category": "Memory Optimized",
    "gpuNum": 0,
    "hideHardwareSpecs": false,
    "memoryGiB": 512,
    "name": "ml.r5.16xlarge",
    "vcpuNum": 64
   },
   {
    "_defaultOrder": 46,
    "_isFastLaunch": false,
    "category": "Memory Optimized",
    "gpuNum": 0,
    "hideHardwareSpecs": false,
    "memoryGiB": 768,
    "name": "ml.r5.24xlarge",
    "vcpuNum": 96
   },
   {
    "_defaultOrder": 47,
    "_isFastLaunch": false,
    "category": "Accelerated computing",
    "gpuNum": 1,
    "hideHardwareSpecs": false,
    "memoryGiB": 16,
    "name": "ml.g5.xlarge",
    "vcpuNum": 4
   },
   {
    "_defaultOrder": 48,
    "_isFastLaunch": false,
    "category": "Accelerated computing",
    "gpuNum": 1,
    "hideHardwareSpecs": false,
    "memoryGiB": 32,
    "name": "ml.g5.2xlarge",
    "vcpuNum": 8
   },
   {
    "_defaultOrder": 49,
    "_isFastLaunch": false,
    "category": "Accelerated computing",
    "gpuNum": 1,
    "hideHardwareSpecs": false,
    "memoryGiB": 64,
    "name": "ml.g5.4xlarge",
    "vcpuNum": 16
   },
   {
    "_defaultOrder": 50,
    "_isFastLaunch": false,
    "category": "Accelerated computing",
    "gpuNum": 1,
    "hideHardwareSpecs": false,
    "memoryGiB": 128,
    "name": "ml.g5.8xlarge",
    "vcpuNum": 32
   },
   {
    "_defaultOrder": 51,
    "_isFastLaunch": false,
    "category": "Accelerated computing",
    "gpuNum": 1,
    "hideHardwareSpecs": false,
    "memoryGiB": 256,
    "name": "ml.g5.16xlarge",
    "vcpuNum": 64
   },
   {
    "_defaultOrder": 52,
    "_isFastLaunch": false,
    "category": "Accelerated computing",
    "gpuNum": 4,
    "hideHardwareSpecs": false,
    "memoryGiB": 192,
    "name": "ml.g5.12xlarge",
    "vcpuNum": 48
   },
   {
    "_defaultOrder": 53,
    "_isFastLaunch": false,
    "category": "Accelerated computing",
    "gpuNum": 4,
    "hideHardwareSpecs": false,
    "memoryGiB": 384,
    "name": "ml.g5.24xlarge",
    "vcpuNum": 96
   },
   {
    "_defaultOrder": 54,
    "_isFastLaunch": false,
    "category": "Accelerated computing",
    "gpuNum": 8,
    "hideHardwareSpecs": false,
    "memoryGiB": 768,
    "name": "ml.g5.48xlarge",
    "vcpuNum": 192
   },
   {
    "_defaultOrder": 55,
    "_isFastLaunch": false,
    "category": "Accelerated computing",
    "gpuNum": 8,
    "hideHardwareSpecs": false,
    "memoryGiB": 1152,
    "name": "ml.p4d.24xlarge",
    "vcpuNum": 96
   },
   {
    "_defaultOrder": 56,
    "_isFastLaunch": false,
    "category": "Accelerated computing",
    "gpuNum": 8,
    "hideHardwareSpecs": false,
    "memoryGiB": 1152,
    "name": "ml.p4de.24xlarge",
    "vcpuNum": 96
   },
   {
    "_defaultOrder": 57,
    "_isFastLaunch": false,
    "category": "Accelerated computing",
    "gpuNum": 0,
    "hideHardwareSpecs": false,
    "memoryGiB": 32,
    "name": "ml.trn1.2xlarge",
    "vcpuNum": 8
   },
   {
    "_defaultOrder": 58,
    "_isFastLaunch": false,
    "category": "Accelerated computing",
    "gpuNum": 0,
    "hideHardwareSpecs": false,
    "memoryGiB": 512,
    "name": "ml.trn1.32xlarge",
    "vcpuNum": 128
   },
   {
    "_defaultOrder": 59,
    "_isFastLaunch": false,
    "category": "Accelerated computing",
    "gpuNum": 0,
    "hideHardwareSpecs": false,
    "memoryGiB": 512,
    "name": "ml.trn1n.32xlarge",
    "vcpuNum": 128
   }
  ],
  "instance_type": "ml.g4dn.xlarge",
  "kernelspec": {
   "display_name": ".venv",
   "language": "python",
   "name": "python3"
  },
  "language_info": {
   "codemirror_mode": {
    "name": "ipython",
    "version": 3
   },
   "file_extension": ".py",
   "mimetype": "text/x-python",
   "name": "python",
   "nbconvert_exporter": "python",
   "pygments_lexer": "ipython3",
   "version": "3.9.6"
  }
 },
 "nbformat": 4,
 "nbformat_minor": 4
}
