{
 "cells": [
  {
   "cell_type": "markdown",
   "metadata": {},
   "source": [
    "# Amazon SageMaker Semantic Segmentation Algorithm - v9: deploy\n",
    "\n",
    "post migration from [roofAI](https://github.com/kamangir/roofAI/tree/main/notebooks/sagemaker)"
   ]
  },
  {
   "cell_type": "code",
   "execution_count": 1,
   "metadata": {},
   "outputs": [],
   "source": [
    "# !pip3 install 'sagemaker>=2,<3'"
   ]
  },
  {
   "cell_type": "code",
   "execution_count": 2,
   "metadata": {},
   "outputs": [
    {
     "name": "stderr",
     "output_type": "stream",
     "text": [
      "/Users/kamangir/git/.venv/lib/python3.9/site-packages/pydantic/_internal/_fields.py:192: UserWarning: Field name \"json\" in \"MonitoringDatasetFormat\" shadows an attribute in parent \"Base\"\n",
      "  warnings.warn(\n"
     ]
    },
    {
     "name": "stdout",
     "output_type": "stream",
     "text": [
      "sagemaker.config      - Not applying SDK defaults from location: /Library/Application Support/sagemaker/config.yaml\n",
      "sagemaker.config      - Not applying SDK defaults from location: /Users/kamangir/Library/Application Support/sagemaker/config.yaml\n"
     ]
    },
    {
     "name": "stderr",
     "output_type": "stream",
     "text": [
      "🌀  blue_sandbox-5.109.1, built on 12 January 2025, 14:02:48\n"
     ]
    }
   ],
   "source": [
    "import sys\n",
    "sys.path.append(\"../../\")\n",
    "\n",
    "from blueflow import notebooks\n",
    "\n",
    "import sagemaker\n",
    "\n",
    "from blue_options import string\n",
    "\n",
    "from blue_sandbox import fullname\n",
    "from blue_sandbox.env import SAGESEMSEG_COMPLETED_JOB\n",
    "from blue_sandbox.logger import logger\n",
    "\n",
    "logger.info(f\"{fullname()}, built on {string.pretty_date()}\")"
   ]
  },
  {
   "cell_type": "code",
   "execution_count": 3,
   "metadata": {},
   "outputs": [
    {
     "name": "stdout",
     "output_type": "stream",
     "text": [
      "\n",
      "2025-01-12 06:05:43 Starting - Preparing the instances for training\n",
      "2025-01-12 06:05:43 Downloading - Downloading the training image\n",
      "2025-01-12 06:05:43 Training - Training image download completed. Training in progress.\n",
      "2025-01-12 06:05:43 Uploading - Uploading generated training model\n",
      "2025-01-12 06:05:43 Completed - Training job completed\n"
     ]
    }
   ],
   "source": [
    "# attach to a completed training job\n",
    "ss_estimator = sagemaker.estimator.Estimator.attach(SAGESEMSEG_COMPLETED_JOB)"
   ]
  },
  {
   "cell_type": "markdown",
   "metadata": {},
   "source": [
    "## Deployment\n",
    "\n",
    "Once the training is done, we can deploy the trained model as an Amazon SageMaker hosted endpoint. This will allow us to make predictions (or inference) from the model.\n",
    "\n",
    "Note that we don't have to host on the same number or type of instances that we used to train, and can choose any SageMaker-supported instance type. Training is compute-heavy job that may have different infrastructure requirements than inference/hosting. In our case we chose the GPU-accelerated `ml.p3.2xlarge` instance to train, but will host the model on a lower cost-per-hour `ml.c5.xlarge` type - because we'll only be serving occasional requests.\n",
    "\n",
    "The endpoint deployment can be accomplished as follows:"
   ]
  },
  {
   "cell_type": "code",
   "execution_count": null,
   "metadata": {},
   "outputs": [
    {
     "name": "stderr",
     "output_type": "stream",
     "text": [
      "sagemaker Creating model with name: sagesemseg-model-2025-01-11-22-00-08-bW-2025-01-12-22-02-54-736\n",
      "sagemaker Creating endpoint-config with name sagesemseg-model-2025-01-11-22-00-08-bW-2025-01-12-22-02-54-736\n",
      "sagemaker Creating endpoint with name sagesemseg-model-2025-01-11-22-00-08-bW-2025-01-12-22-02-54-736\n"
     ]
    },
    {
     "name": "stdout",
     "output_type": "stream",
     "text": [
      "----"
     ]
    }
   ],
   "source": [
    "ss_predictor = ss_estimator.deploy(initial_instance_count=1, instance_type=\"ml.c5.xlarge\")"
   ]
  },
  {
   "cell_type": "code",
   "execution_count": null,
   "metadata": {},
   "outputs": [],
   "source": [
    "# As with Estimators & training jobs, we can instead attach to an existing Endpoint:\n",
    "# ss_predictor = sagemaker.predictor.Predictor(\"ss-notebook-demo-2020-10-29-07-23-03-086\")"
   ]
  },
  {
   "cell_type": "markdown",
   "metadata": {},
   "source": [
    "## Inference\n",
    "\n",
    "Now that the trained model is deployed to an endpoint, we can use this endpoint for inference.\n",
    "\n",
    "To test it out, let us download an image from the web which the algorithm has so-far not seen. "
   ]
  },
  {
   "cell_type": "code",
   "execution_count": null,
   "metadata": {},
   "outputs": [],
   "source": [
    "filename_raw = \"data/test.jpg\"\n",
    "!mkdir \"data\"\n",
    "\n",
    "!wget -O $filename_raw https://upload.wikimedia.org/wikipedia/commons/b/b4/R1200RT_in_Hongkong.jpg"
   ]
  },
  {
   "cell_type": "code",
   "execution_count": null,
   "metadata": {},
   "outputs": [],
   "source": [
    "from matplotlib import pyplot as plt\n",
    "import PIL\n",
    "\n",
    "%matplotlib inline\n",
    "\n",
    "filename = \"data/test_resized.jpg\"\n",
    "width = 800\n",
    "\n",
    "im = PIL.Image.open(filename_raw)\n",
    "\n",
    "aspect = im.size[0] / im.size[1]\n",
    "\n",
    "im.thumbnail([width, int(width / aspect)], PIL.Image.LANCZOS)\n",
    "im.save(filename, \"JPEG\")\n",
    "\n",
    "plt.imshow(im)\n",
    "plt.show()"
   ]
  },
  {
   "cell_type": "code",
   "execution_count": null,
   "metadata": {},
   "outputs": [],
   "source": [
    "from PIL import Image\n",
    "import numpy as np\n",
    "\n",
    "\n",
    "class ImageDeserializer(sagemaker.deserializers.BaseDeserializer):\n",
    "    \"\"\"Deserialize a PIL-compatible stream of Image bytes into a numpy pixel array\"\"\"\n",
    "\n",
    "    def __init__(self, accept=\"image/png\"):\n",
    "        self.accept = accept\n",
    "\n",
    "    @property\n",
    "    def ACCEPT(self):\n",
    "        return (self.accept,)\n",
    "\n",
    "    def deserialize(self, stream, content_type):\n",
    "        \"\"\"Read a stream of bytes returned from an inference endpoint.\n",
    "        Args:\n",
    "            stream (botocore.response.StreamingBody): A stream of bytes.\n",
    "            content_type (str): The MIME type of the data.\n",
    "        Returns:\n",
    "            mask: The numpy array of class labels per pixel\n",
    "        \"\"\"\n",
    "        try:\n",
    "            return np.array(Image.open(stream))\n",
    "        finally:\n",
    "            stream.close()\n",
    "\n",
    "\n",
    "ss_predictor.deserializer = ImageDeserializer(accept=\"image/png\")"
   ]
  },
  {
   "cell_type": "code",
   "execution_count": null,
   "metadata": {},
   "outputs": [],
   "source": [
    "ss_predictor.serializer = sagemaker.serializers.IdentitySerializer(\"image/jpeg\")\n",
    "\n",
    "with open(filename, \"rb\") as imfile:\n",
    "    imbytes = imfile.read()\n",
    "\n",
    "# Extension exercise: Could you write a custom serializer which takes a filename as input instead?"
   ]
  },
  {
   "cell_type": "code",
   "execution_count": null,
   "metadata": {},
   "outputs": [],
   "source": [
    "%%time\n",
    "\n",
    "cls_mask = ss_predictor.predict(imbytes)\n",
    "\n",
    "print(type(cls_mask))\n",
    "print(cls_mask.shape)"
   ]
  },
  {
   "cell_type": "code",
   "execution_count": null,
   "metadata": {},
   "outputs": [],
   "source": [
    "plt.imshow(cls_mask, cmap=\"jet\")\n",
    "plt.show()"
   ]
  },
  {
   "cell_type": "code",
   "execution_count": null,
   "metadata": {},
   "outputs": [],
   "source": [
    "ss_predictor.delete_endpoint()"
   ]
  }
 ],
 "metadata": {
  "kernelspec": {
   "display_name": ".venv",
   "language": "python",
   "name": "python3"
  },
  "language_info": {
   "codemirror_mode": {
    "name": "ipython",
    "version": 3
   },
   "file_extension": ".py",
   "mimetype": "text/x-python",
   "name": "python",
   "nbconvert_exporter": "python",
   "pygments_lexer": "ipython3",
   "version": "3.9.6"
  }
 },
 "nbformat": 4,
 "nbformat_minor": 4
}
