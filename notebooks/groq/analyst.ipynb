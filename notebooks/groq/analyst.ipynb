{
 "cells": [
  {
   "cell_type": "markdown",
   "metadata": {},
   "source": [
    "# Groq Interface\n",
    "\n",
    "https://groq.com/\n",
    "\n",
    "based on https://github.com/Bisma-Shafiq/AI-Stock-Analyst-Agent-Langchain-Deepseek/blob/main/analyst.ipynb"
   ]
  },
  {
   "cell_type": "code",
   "execution_count": 1,
   "metadata": {},
   "outputs": [],
   "source": [
    "#! pip3 install langchain_groq\n",
    "#! pip3 install groq"
   ]
  },
  {
   "cell_type": "code",
   "execution_count": 2,
   "metadata": {},
   "outputs": [
    {
     "name": "stderr",
     "output_type": "stream",
     "text": [
      "🌀  blue_sandbox-5.292.1.abcli-9.486.1.blue_objects-5.281.1.blue_options-4.200.1.torch-2.5.1.Python 3.9.6.Darwin 23.6.0..Jupyter-Notebook,\n",
      "built on 31 January 2025, 18:12:11\n"
     ]
    }
   ],
   "source": [
    "import sys\n",
    "sys.path.append(\"../blue-sandbox\")\n",
    "\n",
    "from blueflow import notebooks\n",
    "\n",
    "from pprint import pprint\n",
    "from langchain_groq import ChatGroq\n",
    "from groq import Groq\n",
    "\n",
    "from blue_options import string\n",
    "\n",
    "from blue_sandbox.host import signature\n",
    "from blue_sandbox.env import GROQ_API_KEY\n",
    "from blue_sandbox.logger import logger\n",
    "\n",
    "logger.info(f\"{'.'.join(signature())},\\nbuilt on {string.pretty_date()}\")"
   ]
  },
  {
   "cell_type": "code",
   "execution_count": 3,
   "metadata": {},
   "outputs": [],
   "source": [
    "model_name = \"gemma2-9b-it\"  # or \"llama3-70b-8192\""
   ]
  },
  {
   "cell_type": "code",
   "execution_count": 4,
   "metadata": {},
   "outputs": [],
   "source": [
    "groq_client = Groq(api_key=GROQ_API_KEY)"
   ]
  },
  {
   "cell_type": "code",
   "execution_count": 5,
   "metadata": {},
   "outputs": [],
   "source": [
    "llm_model = ChatGroq(\n",
    "    api_key=GROQ_API_KEY,\n",
    "    model_name=model_name,\n",
    ")"
   ]
  },
  {
   "cell_type": "code",
   "execution_count": 6,
   "metadata": {},
   "outputs": [
    {
     "name": "stderr",
     "output_type": "stream",
     "text": [
      "httpx HTTP Request: POST https://api.groq.com/openai/v1/chat/completions \"HTTP/1.1 200 OK\"\n"
     ]
    }
   ],
   "source": [
    "response = groq_client.chat.completions.create(\n",
    "    messages=[{\"role\": \"user\", \"content\": \"Explain quantum physics in simple terms\"}],\n",
    "    model=\"gemma2-9b-it\"\n",
    ")"
   ]
  },
  {
   "cell_type": "code",
   "execution_count": 7,
   "metadata": {},
   "outputs": [
    {
     "name": "stderr",
     "output_type": "stream",
     "text": [
      "🌀  Imagine the world is built with tiny LEGO bricks. In the normal world, these bricks are like balls, always rolling smoothly and predictably. But in the quantum world, these LEGO bricks are more like fuzzy clouds, sometimes behaving like waves and sometimes like particles.\n",
      "\n",
      "Here are some key ideas in quantum physics:\n",
      "\n",
      "* **Everything is quantized:** Energy, momentum, and other properties don't come in a continuous flow, but in discrete chunks called \"quanta.\" It's like having a LEGO bucket, you can only build with the bricks inside, not with fractions of them.\n",
      "* **Wave-particle duality:** Quantum objects, like light or electrons, can act like both waves and particles. This means they don't have a fixed position and speed until we measure them. It's like a LEGO brick that can be a solid object and a spread-out cloud at the same time!\n",
      "* **Superposition:** Before we look, a quantum object exists in all possible states at once. It's like a LEGO brick that is both red and blue until we open the box and see which color it actually is.\n",
      "* **Uncertainty principle:** We can't know both the position and momentum of a quantum object with perfect accuracy. The more precisely we know one, the less precisely we know the other. It's like trying to catch a LEGO brick falling from a height - if you know exactly where it is, you won't know how fast it's going, and vice versa.\n",
      "* **Entanglement:** Two quantum objects can be linked together in a way that they influence each other, even when separated by large distances. It's like having two LEGO bricks connected in a super special way, so that if you change one, the other changes instantly, no matter how far apart they are.\n",
      "\n",
      "Quantum physics is weird and counterintuitive, but it has revolutionized our understanding of the universe. It's behind many modern technologies, like lasers, transistors, and even medical imaging.  \n",
      "\n",
      "**Keep in mind:** This is just a very simplified explanation. Quantum physics is a complex and fascinating subject that requires a lot of study to fully grasp.\n",
      "\n"
     ]
    }
   ],
   "source": [
    "for choice in response.choices:\n",
    "    logger.info(choice.message.content)"
   ]
  },
  {
   "cell_type": "code",
   "execution_count": 8,
   "metadata": {},
   "outputs": [],
   "source": [
    "# END"
   ]
  }
 ],
 "metadata": {
  "kernelspec": {
   "display_name": ".venv",
   "language": "python",
   "name": "python3"
  },
  "language_info": {
   "codemirror_mode": {
    "name": "ipython",
    "version": 3
   },
   "file_extension": ".py",
   "mimetype": "text/x-python",
   "name": "python",
   "nbconvert_exporter": "python",
   "pygments_lexer": "ipython3",
   "version": "3.9.6"
  }
 },
 "nbformat": 4,
 "nbformat_minor": 2
}
