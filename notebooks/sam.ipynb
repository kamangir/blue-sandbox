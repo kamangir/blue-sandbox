{
 "cells": [
  {
   "attachments": {},
   "cell_type": "markdown",
   "metadata": {},
   "source": [
    "# sam\n",
    "\n",
    "https://samgeo.gishub.org/examples/satellite/"
   ]
  },
  {
   "cell_type": "code",
   "execution_count": 1,
   "metadata": {},
   "outputs": [],
   "source": [
    "#!pip install segment-geospatial"
   ]
  },
  {
   "cell_type": "code",
   "execution_count": 2,
   "metadata": {},
   "outputs": [
    {
     "name": "stderr",
     "output_type": "stream",
     "text": [
      "🌀  blue_sandbox-5.322.1.abcli-9.540.1.blue_objects-5.326.1.blue_options-4.223.1.torch-2.6.0.Python 3.9.21.Darwin 23.6.0..Jupyter-Notebook,\n",
      "built on 21 February 2025, 17:20:54\n"
     ]
    }
   ],
   "source": [
    "import sys\n",
    "sys.path.append(\"..\")\n",
    "\n",
    "import os\n",
    "import leafmap\n",
    "from samgeo import SamGeo, tms_to_geotiff, get_basemaps\n",
    "\n",
    "from blueflow import notebooks\n",
    "\n",
    "from blue_options import string\n",
    "from blue_objects import objects\n",
    "\n",
    "from blue_sandbox.host import signature\n",
    "from blue_sandbox.logger import logger\n",
    "\n",
    "logger.info(f\"{'.'.join(signature())},\\nbuilt on {string.pretty_date()}\")"
   ]
  },
  {
   "cell_type": "code",
   "execution_count": 3,
   "metadata": {},
   "outputs": [
    {
     "name": "stderr",
     "output_type": "stream",
     "text": [
      "🌀  📂 fascinating-magic-2025-02-21-17-20-54-q08k96\n"
     ]
    }
   ],
   "source": [
    "object_name = objects.unique_object(\"fascinating-magic\")\n",
    "object_path = objects.object_path(object_name)"
   ]
  },
  {
   "attachments": {},
   "cell_type": "markdown",
   "metadata": {},
   "source": [
    "---"
   ]
  },
  {
   "cell_type": "code",
   "execution_count": 4,
   "metadata": {},
   "outputs": [
    {
     "name": "stderr",
     "output_type": "stream",
     "text": [
      "🌀  712 base map(s): BaseMapDE.Color, BaseMapDE.Grey, BasemapAT.basemap, BasemapAT.grau, BasemapAT.highdpi, BasemapAT.orthofoto, BasemapAT.overlay, BasemapAT.surface, BasemapAT.terrain, CartoDB.DarkMatter, CartoDB.DarkMatterNoLabels, CartoDB.DarkMatterOnlyLabels, CartoDB.Positron, CartoDB.PositronNoLabels, CartoDB.PositronOnlyLabels, CartoDB.Voyager, CartoDB.VoyagerLabelsUnder, CartoDB.VoyagerNoLabels, CartoDB.VoyagerOnlyLabels, CyclOSM, Esri.AntarcticBasemap, Esri.AntarcticImagery, Esri.ArcticImagery, Esri.ArcticOceanBase, Esri.ArcticOceanReference, Esri.NatGeoWorldMap, Esri.OceanBasemap, Esri.WorldGrayCanvas, Esri.WorldImagery, Esri.WorldPhysical, Esri.WorldShadedRelief, Esri.WorldStreetMap, Esri.WorldTerrain, Esri.WorldTopoMap, FreeMapSK, Gaode.Normal, Gaode.Satellite, GeoportailFrance.500k, GeoportailFrance.Acces_Biomethane, GeoportailFrance.Adminexpress_cog_2020, GeoportailFrance.Adminexpress_cog_Latest, GeoportailFrance.Adminexpress_cog_carto_Latest, GeoportailFrance.Aire-parcellaire, GeoportailFrance.Areamanagement_Zfu, GeoportailFrance.Areamanagement_Zus, GeoportailFrance.Bdcarto_etat_major_Niveau3, GeoportailFrance.Bdcarto_etat_major_Niveau4, GeoportailFrance.Besoin_Chaleur_Industriel, GeoportailFrance.Besoin_Chaleur_Residentiel, GeoportailFrance.Besoin_Chaleur_Tertiaire, GeoportailFrance.Besoin_Froid_Residentiel, GeoportailFrance.Besoin_Froid_Tertiaire, GeoportailFrance.Bnf_ignf_geographicalgridsystems_Cassini, GeoportailFrance.Buildings_Buildings, GeoportailFrance.Cadastral_Parcels_Sections, GeoportailFrance.Cadastralparcels_Heatmap, GeoportailFrance.Cadastralparcels_Histo_2008_2013_Parcels, GeoportailFrance.Cadastralparcels_Parcellaire_express_L93, GeoportailFrance.Cadastralparcels_Parcels, GeoportailFrance.Cadastralparcels_Qualrefbdp, GeoportailFrance.Cadastres_Solaires_Locaux, GeoportailFrance.Capacite_Accueil_Electrique, GeoportailFrance.Carhab_habitat, GeoportailFrance.Cartes-14-18-edugeo_pyr-png_fxx_wm, GeoportailFrance.Cartes_Naturalearth, GeoportailFrance.Cget_qp_bdd_wld_wm_wmts_20150914, GeoportailFrance.Communes_Prioritydisctrict, GeoportailFrance.Communes_Sismicite, GeoportailFrance.Conso_Elec_Commune, GeoportailFrance.Conso_Gaz_Commune, GeoportailFrance.Cosia, GeoportailFrance.Debroussaillement, GeoportailFrance.Delaisses_Autoroutiers, GeoportailFrance.Delmar_wmts, GeoportailFrance.Dreal_Zonage_pinel, GeoportailFrance.Edugeo_Landuse_Agriculture2012, GeoportailFrance.Edugeo_Naturalriskzones_1910floodedwatersheds, GeoportailFrance.Elevation_Contour_Line, GeoportailFrance.Elevation_Elevationgridcoverage_Shadow, GeoportailFrance.Elevation_Elevationgridcoverage_Threshold, GeoportailFrance.Elevation_Level0, GeoportailFrance.Elevation_Slopes, GeoportailFrance.Elevation_Slopes_Highres, GeoportailFrance.Elevationgridcoverage_Highres_Quality, GeoportailFrance.Enr_Aero_Civil, GeoportailFrance.Enr_Aero_Militaire, GeoportailFrance.Enr_Grands_Sites_France, GeoportailFrance.Enr_Perimetre_Habitation, GeoportailFrance.Enr_Perimetre_Pente, GeoportailFrance.Enr_Perimetre_Route, GeoportailFrance.Enr_Perimetre_Voie_Ferree, GeoportailFrance.Enrezo_Besoins_Chaud, GeoportailFrance.Enrezo_Besoins_Froid, GeoportailFrance.Enrezo_Chaleur_Fatale_500_Industries, GeoportailFrance.Enrezo_Chaleur_Fatale_Datacenter, GeoportailFrance.Enrezo_Chaleur_Fatale_Step, GeoportailFrance.Enrezo_Zone_Potentiel_Chaud, GeoportailFrance.Enrezo_Zone_Potentiel_Fort_Chaud, GeoportailFrance.Enrezo_Zone_Potentiel_Fort_Froid, GeoportailFrance.Enrezo_Zone_Potentiel_Froid, GeoportailFrance.Evol-surface-forestiere-1980-2011_edugeo_pyr-png_fxx_lamb93_20150918, GeoportailFrance.Forets_Publiques, GeoportailFrance.Gaz_Corridor_Distribution, GeoportailFrance.Gaz_Corridor_Transport, GeoportailFrance.Gaz_Reseau_Distribution, GeoportailFrance.Gaz_Reseau_Transport, GeoportailFrance.Geographicalgridsystem_Dfci, GeoportailFrance.Geographicalgridsystems_1900typemaps, GeoportailFrance.Geographicalgridsystems_1914_11_15_arras_verdun_belfort_fronts_600k, GeoportailFrance.Geographicalgridsystems_Bonne, GeoportailFrance.Geographicalgridsystems_Coastalmaps, GeoportailFrance.Geographicalgridsystems_Douaumont_fort_positions_5k_18mai1916, GeoportailFrance.Geographicalgridsystems_Edugeo_Ajaccio1976, GeoportailFrance.Geographicalgridsystems_Edugeo_Belfort_montbelliard1973, GeoportailFrance.Geographicalgridsystems_Edugeo_Berry_sud1952, GeoportailFrance.Geographicalgridsystems_Edugeo_Bethune1956, GeoportailFrance.Geographicalgridsystems_Edugeo_Biarritz1979, GeoportailFrance.Geographicalgridsystems_Edugeo_Bourg_st_maurice1974, GeoportailFrance.Geographicalgridsystems_Edugeo_Caen1969, GeoportailFrance.Geographicalgridsystems_Edugeo_Cap_dagde1971, GeoportailFrance.Geographicalgridsystems_Edugeo_Clermont_ferrand1966, GeoportailFrance.Geographicalgridsystems_Edugeo_Creil_sud_picardie1979, GeoportailFrance.Geographicalgridsystems_Edugeo_Dijon1962, GeoportailFrance.Geographicalgridsystems_Edugeo_Douaumont1916, GeoportailFrance.Geographicalgridsystems_Edugeo_Grenoble1965, GeoportailFrance.Geographicalgridsystems_Edugeo_Grenoble1976, GeoportailFrance.Geographicalgridsystems_Edugeo_Grenoble1991, GeoportailFrance.Geographicalgridsystems_Edugeo_Guadeloupe1955, GeoportailFrance.Geographicalgridsystems_Edugeo_Guyane1958, GeoportailFrance.Geographicalgridsystems_Edugeo_La_reunion1980, GeoportailFrance.Geographicalgridsystems_Edugeo_La_rochelle_rochefort1959, GeoportailFrance.Geographicalgridsystems_Edugeo_Le_havre1975, GeoportailFrance.Geographicalgridsystems_Edugeo_Le_havre1979, GeoportailFrance.Geographicalgridsystems_Edugeo_Le_mort_homme_et_ses_environs_avril_1916, GeoportailFrance.Geographicalgridsystems_Edugeo_Limoges1966, GeoportailFrance.Geographicalgridsystems_Edugeo_Lyon1947, GeoportailFrance.Geographicalgridsystems_Edugeo_Lyon1980, GeoportailFrance.Geographicalgridsystems_Edugeo_Lyon1985, GeoportailFrance.Geographicalgridsystems_Edugeo_Marne_la_vallee1966, GeoportailFrance.Geographicalgridsystems_Edugeo_Marne_la_vallee1978, GeoportailFrance.Geographicalgridsystems_Edugeo_Marne_la_vallee1987, GeoportailFrance.Geographicalgridsystems_Edugeo_Marseille_martigues1947, GeoportailFrance.Geographicalgridsystems_Edugeo_Marseille_martigues1980, GeoportailFrance.Geographicalgridsystems_Edugeo_Marseille_martigues1986, GeoportailFrance.Geographicalgridsystems_Edugeo_Metz_nancy1983, GeoportailFrance.Geographicalgridsystems_Edugeo_Nantes1972, GeoportailFrance.Geographicalgridsystems_Edugeo_Paris1964, GeoportailFrance.Geographicalgridsystems_Edugeo_Paris1979, GeoportailFrance.Geographicalgridsystems_Edugeo_Positions_20k_avr1916, GeoportailFrance.Geographicalgridsystems_Edugeo_Reims1974, GeoportailFrance.Geographicalgridsystems_Edugeo_Roissy1973, GeoportailFrance.Geographicalgridsystems_Edugeo_Roissy1978, GeoportailFrance.Geographicalgridsystems_Edugeo_Strasbourg1956, GeoportailFrance.Geographicalgridsystems_Edugeo_Strasbourg1978, GeoportailFrance.Geographicalgridsystems_Edugeo_Toulon_hyeres1976, GeoportailFrance.Geographicalgridsystems_Edugeo_Toulouse1948, GeoportailFrance.Geographicalgridsystems_Edugeo_Vannes_golfe_du_morbihan1960, GeoportailFrance.Geographicalgridsystems_Edugeo_Vannes_golfe_du_morbihan1971, GeoportailFrance.Geographicalgridsystems_Edugeo_Verdun_nord_fronts_francais_20k, GeoportailFrance.Geographicalgridsystems_Edugeo_Verdun_nord_organisations_defensives_20k, GeoportailFrance.Geographicalgridsystems_Edugeo_Versailles1979, GeoportailFrance.Geographicalgridsystems_Etatmajor10, GeoportailFrance.Geographicalgridsystems_Etatmajor40, GeoportailFrance.Geographicalgridsystems_Maps_Bduni_J1, GeoportailFrance.Geographicalgridsystems_Maps_Overview, GeoportailFrance.Geographicalgridsystems_Maps_Scan50_1950, GeoportailFrance.Geographicalgridsystems_Planignv2_L93, GeoportailFrance.Geographicalgridsystems_Slopes_Mountain, GeoportailFrance.Geographicalgridsystems_Slopes_Pac, GeoportailFrance.Geographicalgridsystems_Terrier_v1, GeoportailFrance.Geographicalgridsystems_Terrier_v2, GeoportailFrance.Geographicalgridsystems_Verdun_environs_fronts_50k_21_26fevr1916, GeoportailFrance.Geographicalgridsystems_Verdun_environs_nord_fronts_offensves_50k, GeoportailFrance.Geographicalgridsystems_Verdun_environs_sud_nord_com_group_80k, GeoportailFrance.Geographicalnames_Names, GeoportailFrance.Hedge_Hedge, GeoportailFrance.Hr_Orthoimagery_Orthophotos, GeoportailFrance.Hr_Orthoimagery_Orthophotos_L93, GeoportailFrance.Hydro_ardennes_pyramide_raster_wmts, GeoportailFrance.Hydrography_Bcae_2020, GeoportailFrance.Hydrography_Bcae_2021, GeoportailFrance.Hydrography_Bcae_2022, GeoportailFrance.Hydrography_Bcae_2023, GeoportailFrance.Hydrography_Bcae_2024, GeoportailFrance.Hydrography_Bcae_Latest, GeoportailFrance.Hydrography_Hydrography, GeoportailFrance.Ignf_elevation_Elevationgridcoverage_Shadow, GeoportailFrance.Inpe, GeoportailFrance.Inra_Carte_Sols, GeoportailFrance.Insee_Filosofi_Enfants_0_17_Ans_Secret, GeoportailFrance.Insee_Filosofi_Logements_Surface_Moyenne_Secret, GeoportailFrance.Insee_Filosofi_Niveau_De_Vie_Secret, GeoportailFrance.Insee_Filosofi_Part_Familles_Monoparentales_Secret, GeoportailFrance.Insee_Filosofi_Part_Individus_25_39_Ans_Secret, GeoportailFrance.Insee_Filosofi_Part_Individus_40_54_Ans_Secret, GeoportailFrance.Insee_Filosofi_Part_Individus_55_64_Ans_Secret, GeoportailFrance.Insee_Filosofi_Part_Logements_Apres_1990_Secret, GeoportailFrance.Insee_Filosofi_Part_Logements_Avant_1945_Secret, GeoportailFrance.Insee_Filosofi_Part_Logements_Collectifs_Secret, GeoportailFrance.Insee_Filosofi_Part_Logements_Construits_1945_1970_Secret, GeoportailFrance.Insee_Filosofi_Part_Logements_Construits_1970_1990_Secret, GeoportailFrance.Insee_Filosofi_Part_Logements_Sociaux_Secret, GeoportailFrance.Insee_Filosofi_Part_Menages_1_Personne_Secret, GeoportailFrance.Insee_Filosofi_Part_Menages_5_Personnes_Ouplus_Secret, GeoportailFrance.Insee_Filosofi_Part_Menages_Maison_Secret, GeoportailFrance.Insee_Filosofi_Part_Menages_Pauvres_Secret, GeoportailFrance.Insee_Filosofi_Part_Menages_Proprietaires_Secret, GeoportailFrance.Insee_Filosofi_Part_Plus_65_Ans_Secret, GeoportailFrance.Insee_Filosofi_Population, GeoportailFrance.Installations_Pv_Sol, GeoportailFrance.Landcover_Cha00, GeoportailFrance.Landcover_Cha00_fr, GeoportailFrance.Landcover_Cha06, GeoportailFrance.Landcover_Cha06_dom, GeoportailFrance.Landcover_Cha06_fr, GeoportailFrance.Landcover_Cha12, GeoportailFrance.Landcover_Cha12_dom, GeoportailFrance.Landcover_Cha12_fr, GeoportailFrance.Landcover_Cha18, GeoportailFrance.Landcover_Cha18_dom, GeoportailFrance.Landcover_Cha18_fr, GeoportailFrance.Landcover_Clc00, GeoportailFrance.Landcover_Clc00_dom, GeoportailFrance.Landcover_Clc00_fr, GeoportailFrance.Landcover_Clc00r, GeoportailFrance.Landcover_Clc00r_fr, GeoportailFrance.Landcover_Clc06, GeoportailFrance.Landcover_Clc06_dom, GeoportailFrance.Landcover_Clc06_fr, GeoportailFrance.Landcover_Clc06r, GeoportailFrance.Landcover_Clc06r_dom, GeoportailFrance.Landcover_Clc06r_fr, GeoportailFrance.Landcover_Clc12, GeoportailFrance.Landcover_Clc12_dom, GeoportailFrance.Landcover_Clc12_fr, GeoportailFrance.Landcover_Clc12r, GeoportailFrance.Landcover_Clc12r_dom, GeoportailFrance.Landcover_Clc12r_fr, GeoportailFrance.Landcover_Clc18, GeoportailFrance.Landcover_Clc18_dom, GeoportailFrance.Landcover_Clc18_fr, GeoportailFrance.Landcover_Clc90, GeoportailFrance.Landcover_Clc90_fr, GeoportailFrance.Landcover_Edugeo_Evol_surface_forestiere_1980_2011, GeoportailFrance.Landcover_Edugeo_Klaus, GeoportailFrance.Landcover_Edugeo_Lgv_archeologie, GeoportailFrance.Landcover_Edugeo_Lgv_faune, GeoportailFrance.Landcover_Edugeo_Lgv_flore, GeoportailFrance.Landcover_Edugeo_Lgv_technique, GeoportailFrance.Landcover_Edugeo_Taux_boisement_2009_2013, GeoportailFrance.Landcover_Forestareas, GeoportailFrance.Landcover_Forestinventory_V1, GeoportailFrance.Landcover_Forestinventory_V2, GeoportailFrance.Landcover_Grid_Clc00, GeoportailFrance.Landcover_Grid_Clc00_dom, GeoportailFrance.Landcover_Grid_Clc00_fr, GeoportailFrance.Landcover_Grid_Clc00r_fr, GeoportailFrance.Landcover_Grid_Clc06, GeoportailFrance.Landcover_Grid_Clc06_dom, GeoportailFrance.Landcover_Grid_Clc06_fr, GeoportailFrance.Landcover_Grid_Clc06r, GeoportailFrance.Landcover_Grid_Clc06r_dom, GeoportailFrance.Landcover_Grid_Clc06r_fr, GeoportailFrance.Landcover_Grid_Clc12, GeoportailFrance.Landcover_Grid_Clc12_dom, GeoportailFrance.Landcover_Grid_Clc12_fr, GeoportailFrance.Landcover_Grid_Clc90_fr, GeoportailFrance.Landcover_Hr_Dlt_Clc12, GeoportailFrance.Landcover_Hr_Dlt_Clc15, GeoportailFrance.Landcover_Hr_Gra_Clc15, GeoportailFrance.Landcover_Hr_Imd_Clc12, GeoportailFrance.Landcover_Hr_Imd_Clc15, GeoportailFrance.Landcover_Hr_Tcd_Clc12, GeoportailFrance.Landcover_Hr_Tcd_Clc15, GeoportailFrance.Landcover_Hr_Waw_Clc15, GeoportailFrance.Landcover_Sylvoecoregions, GeoportailFrance.Landcover_Sylvoecoregions_Alluvium, GeoportailFrance.Landuse_Agriculture2007, GeoportailFrance.Landuse_Agriculture2008, GeoportailFrance.Landuse_Agriculture2009, GeoportailFrance.Landuse_Agriculture2010, GeoportailFrance.Landuse_Agriculture2011, GeoportailFrance.Landuse_Agriculture2012, GeoportailFrance.Landuse_Agriculture2013, GeoportailFrance.Landuse_Agriculture2014, GeoportailFrance.Landuse_Agriculture2015, GeoportailFrance.Landuse_Agriculture2016, GeoportailFrance.Landuse_Agriculture2017, GeoportailFrance.Landuse_Agriculture2018, GeoportailFrance.Landuse_Agriculture2019, GeoportailFrance.Landuse_Agriculture2020, GeoportailFrance.Landuse_Agriculture2021, GeoportailFrance.Landuse_Agriculture2022, GeoportailFrance.Landuse_Agriculture2023, GeoportailFrance.Landuse_Agriculture_Latest, GeoportailFrance.Lgv_edugeo_archeologie_pyr-png_fxx_wm_20170210, GeoportailFrance.Lgv_edugeo_faune_pyr-png_fxx_wm_20170215, GeoportailFrance.Lgv_edugeo_flore_pyr-png_fxx_wm_20170213, GeoportailFrance.Lgv_edugeo_technique_pyr-png_fxx_wm_20170215, GeoportailFrance.Limites_administratives_express_Latest, GeoportailFrance.Litto3d_charente, GeoportailFrance.Localisation_Concessions_Hydro, GeoportailFrance.Localisation_Mats_Eolien, GeoportailFrance.Lsep-crue_pyr-png_wld_wm_edugeo_20130128, GeoportailFrance.Naturalriskzones_1910floodedwatersheds, GeoportailFrance.Ocsge_Construction_2010, GeoportailFrance.Ocsge_Construction_2016_2017, GeoportailFrance.Ocsge_Construction_2017_2020, GeoportailFrance.Ocsge_Construction_2021_2023, GeoportailFrance.Ocsge_Constructions, GeoportailFrance.Ocsge_Constructions_2002, GeoportailFrance.Ocsge_Constructions_2011, GeoportailFrance.Ocsge_Constructions_2014, GeoportailFrance.Ocsge_Constructions_2016, GeoportailFrance.Ocsge_Constructions_2017, GeoportailFrance.Ocsge_Constructions_2019, GeoportailFrance.Ocsge_Couverture, GeoportailFrance.Ocsge_Couverture_2002, GeoportailFrance.Ocsge_Couverture_2010, GeoportailFrance.Ocsge_Couverture_2011, GeoportailFrance.Ocsge_Couverture_2014, GeoportailFrance.Ocsge_Couverture_2016, GeoportailFrance.Ocsge_Couverture_2016_2017, GeoportailFrance.Ocsge_Couverture_2017, GeoportailFrance.Ocsge_Couverture_2017_2020, GeoportailFrance.Ocsge_Couverture_2019, GeoportailFrance.Ocsge_Couverture_2021_2023, GeoportailFrance.Ocsge_Usage, GeoportailFrance.Ocsge_Usage_2002, GeoportailFrance.Ocsge_Usage_2010, GeoportailFrance.Ocsge_Usage_2011, GeoportailFrance.Ocsge_Usage_2014, GeoportailFrance.Ocsge_Usage_2016, GeoportailFrance.Ocsge_Usage_2016_2017, GeoportailFrance.Ocsge_Usage_2017, GeoportailFrance.Ocsge_Usage_2017_2020, GeoportailFrance.Ocsge_Usage_2019, GeoportailFrance.Ocsge_Usage_2021_2023, GeoportailFrance.Ocsge_Visu_2016, GeoportailFrance.Ocsge_Visu_2019, GeoportailFrance.Ofb_Zones_Exclues, GeoportailFrance.Ofb_Zones_Exclues_Sauf_Toiture, GeoportailFrance.Ofb_Zones_Necessitant_Avis_Gestionnaire, GeoportailFrance.Optimized-planignv2, GeoportailFrance.Ortho-edugeo_pyr-png_wld_wm, GeoportailFrance.Ortho-express-2020_pyr-jpg_wld_wm_wmts2, GeoportailFrance.Orthoimagery_Edugeo_Ajaccio1975, GeoportailFrance.Orthoimagery_Edugeo_Ajaccio1990, GeoportailFrance.Orthoimagery_Edugeo_Arcachon2010, GeoportailFrance.Orthoimagery_Edugeo_Arras_lens_bethune2008, GeoportailFrance.Orthoimagery_Edugeo_Belfort_montbelliard1951, GeoportailFrance.Orthoimagery_Edugeo_Berry_sud1950, GeoportailFrance.Orthoimagery_Edugeo_Berry_sud1970, GeoportailFrance.Orthoimagery_Edugeo_Bethune1963, GeoportailFrance.Orthoimagery_Edugeo_Bethune1964, GeoportailFrance.Orthoimagery_Edugeo_Bethune1988, GeoportailFrance.Orthoimagery_Edugeo_Biarritz1977, GeoportailFrance.Orthoimagery_Edugeo_Biarrtitz1979, GeoportailFrance.Orthoimagery_Edugeo_Bordeaux2003, GeoportailFrance.Orthoimagery_Edugeo_Bourg_st_maurice1956, GeoportailFrance.Orthoimagery_Edugeo_Caen1991, GeoportailFrance.Orthoimagery_Edugeo_Cap_d_agde1968, GeoportailFrance.Orthoimagery_Edugeo_Cap_d_agde2008, GeoportailFrance.Orthoimagery_Edugeo_Cap_dage1981, GeoportailFrance.Orthoimagery_Edugeo_Clermont_ferrand1965, GeoportailFrance.Orthoimagery_Edugeo_Clermont_ferrand1985, GeoportailFrance.Orthoimagery_Edugeo_Creil_sud_picardie1975, GeoportailFrance.Orthoimagery_Edugeo_Dijon1971, GeoportailFrance.Orthoimagery_Edugeo_Grenoble1966, GeoportailFrance.Orthoimagery_Edugeo_Grenoble1989, GeoportailFrance.Orthoimagery_Edugeo_Guadeloupe1984, GeoportailFrance.Orthoimagery_Edugeo_Guyane1955, GeoportailFrance.Orthoimagery_Edugeo_La_reunion1961, GeoportailFrance.Orthoimagery_Edugeo_La_reunion1980, GeoportailFrance.Orthoimagery_Edugeo_La_reunion1989, GeoportailFrance.Orthoimagery_Edugeo_La_reunion2010, GeoportailFrance.Orthoimagery_Edugeo_La_rochelle_rochefort1973, GeoportailFrance.Orthoimagery_Edugeo_Le_havre1955, GeoportailFrance.Orthoimagery_Edugeo_Le_havre1964, GeoportailFrance.Orthoimagery_Edugeo_Le_havre2008, GeoportailFrance.Orthoimagery_Edugeo_Limoges1974, GeoportailFrance.Orthoimagery_Edugeo_Lyon1965, GeoportailFrance.Orthoimagery_Edugeo_Lyon1984, GeoportailFrance.Orthoimagery_Edugeo_Lyon1988, GeoportailFrance.Orthoimagery_Edugeo_Lyon2008, GeoportailFrance.Orthoimagery_Edugeo_Marne_la_vallee1965, GeoportailFrance.Orthoimagery_Edugeo_Marne_la_vallee1977, GeoportailFrance.Orthoimagery_Edugeo_Marne_la_vallee1987, GeoportailFrance.Orthoimagery_Edugeo_Marseille_martigues1969, GeoportailFrance.Orthoimagery_Edugeo_Marseille_martigues1980, GeoportailFrance.Orthoimagery_Edugeo_Marseille_martigues1987, GeoportailFrance.Orthoimagery_Edugeo_Marseille_martigues1988, GeoportailFrance.Orthoimagery_Edugeo_Marseille_martigues2010, GeoportailFrance.Orthoimagery_Edugeo_Martinique1988, GeoportailFrance.Orthoimagery_Edugeo_Metz_nancy1982, GeoportailFrance.Orthoimagery_Edugeo_Nantes1971, GeoportailFrance.Orthoimagery_Edugeo_Paris1949, GeoportailFrance.Orthoimagery_Edugeo_Paris1965, GeoportailFrance.Orthoimagery_Edugeo_Paris2010spot, GeoportailFrance.Orthoimagery_Edugeo_Reims1963, GeoportailFrance.Orthoimagery_Edugeo_Reims1973, GeoportailFrance.Orthoimagery_Edugeo_Reims1988, GeoportailFrance.Orthoimagery_Edugeo_Reims2010, GeoportailFrance.Orthoimagery_Edugeo_Roissy1965, GeoportailFrance.Orthoimagery_Edugeo_Roissy1987, GeoportailFrance.Orthoimagery_Edugeo_Strasbourg1975, GeoportailFrance.Orthoimagery_Edugeo_Strasbourg1985, GeoportailFrance.Orthoimagery_Edugeo_Strasbourg2010, GeoportailFrance.Orthoimagery_Edugeo_Toulon_hyeres1972, GeoportailFrance.Orthoimagery_Edugeo_Toulouse1954, GeoportailFrance.Orthoimagery_Edugeo_Valee_du_drac2010, GeoportailFrance.Orthoimagery_Edugeo_Vannes_golfe_du_morbihan1970, GeoportailFrance.Orthoimagery_Edugeo_Versailles1965, GeoportailFrance.Orthoimagery_Edugeo_Versailles1989, GeoportailFrance.Orthoimagery_Ortho_sat_Pleiades_2012, GeoportailFrance.Orthoimagery_Ortho_sat_Pleiades_2013, GeoportailFrance.Orthoimagery_Ortho_sat_Pleiades_2014, GeoportailFrance.Orthoimagery_Ortho_sat_Pleiades_2015, GeoportailFrance.Orthoimagery_Ortho_sat_Pleiades_2016, GeoportailFrance.Orthoimagery_Ortho_sat_Pleiades_2017, GeoportailFrance.Orthoimagery_Ortho_sat_Pleiades_2018, GeoportailFrance.Orthoimagery_Ortho_sat_Pleiades_2019, GeoportailFrance.Orthoimagery_Ortho_sat_Pleiades_2020, GeoportailFrance.Orthoimagery_Ortho_sat_Pleiades_2021, GeoportailFrance.Orthoimagery_Ortho_sat_Pleiades_2022, GeoportailFrance.Orthoimagery_Ortho_sat_Pleiades_Mayotte_2024_06, GeoportailFrance.Orthoimagery_Ortho_sat_Rapideye_2010, GeoportailFrance.Orthoimagery_Ortho_sat_Rapideye_2011, GeoportailFrance.Orthoimagery_Ortho_sat_Spot_2013, GeoportailFrance.Orthoimagery_Ortho_sat_Spot_2014, GeoportailFrance.Orthoimagery_Ortho_sat_Spot_2015, GeoportailFrance.Orthoimagery_Ortho_sat_Spot_2016, GeoportailFrance.Orthoimagery_Ortho_sat_Spot_2017, GeoportailFrance.Orthoimagery_Ortho_sat_Spot_2018, GeoportailFrance.Orthoimagery_Ortho_sat_Spot_2019, GeoportailFrance.Orthoimagery_Ortho_sat_Spot_2020, GeoportailFrance.Orthoimagery_Ortho_sat_Spot_2021, GeoportailFrance.Orthoimagery_Ortho_sat_Spot_2022, GeoportailFrance.Orthoimagery_Ortho_sat_Spot_2023, GeoportailFrance.Orthoimagery_Orthophos_Restrictedareas, GeoportailFrance.Orthoimagery_Orthophotos2000, GeoportailFrance.Orthoimagery_Orthophotos2000_2005, GeoportailFrance.Orthoimagery_Orthophotos2001, GeoportailFrance.Orthoimagery_Orthophotos2002, GeoportailFrance.Orthoimagery_Orthophotos2003, GeoportailFrance.Orthoimagery_Orthophotos2004, GeoportailFrance.Orthoimagery_Orthophotos2005, GeoportailFrance.Orthoimagery_Orthophotos2006, GeoportailFrance.Orthoimagery_Orthophotos2006_2010, GeoportailFrance.Orthoimagery_Orthophotos2007, GeoportailFrance.Orthoimagery_Orthophotos2008, GeoportailFrance.Orthoimagery_Orthophotos2009, GeoportailFrance.Orthoimagery_Orthophotos2010, GeoportailFrance.Orthoimagery_Orthophotos2011, GeoportailFrance.Orthoimagery_Orthophotos2011_2015, GeoportailFrance.Orthoimagery_Orthophotos2012, GeoportailFrance.Orthoimagery_Orthophotos2013, GeoportailFrance.Orthoimagery_Orthophotos2014, GeoportailFrance.Orthoimagery_Orthophotos2015, GeoportailFrance.Orthoimagery_Orthophotos2016, GeoportailFrance.Orthoimagery_Orthophotos2017, GeoportailFrance.Orthoimagery_Orthophotos2018, GeoportailFrance.Orthoimagery_Orthophotos2019, GeoportailFrance.Orthoimagery_Orthophotos2020, GeoportailFrance.Orthoimagery_Orthophotos_1950_1965, GeoportailFrance.Orthoimagery_Orthophotos_1965_1980, GeoportailFrance.Orthoimagery_Orthophotos_1980_1995, GeoportailFrance.Orthoimagery_Orthophotos_Bdortho, GeoportailFrance.Orthoimagery_Orthophotos_Coast2000, GeoportailFrance.Orthoimagery_Orthophotos_Geneve, GeoportailFrance.Orthoimagery_Orthophotos_Ilesdunord, GeoportailFrance.Orthoimagery_Orthophotos_Irc, GeoportailFrance.Orthoimagery_Orthophotos_Irc_2012, GeoportailFrance.Orthoimagery_Orthophotos_Irc_2013, GeoportailFrance.Orthoimagery_Orthophotos_Irc_2014, GeoportailFrance.Orthoimagery_Orthophotos_Irc_2015, GeoportailFrance.Orthoimagery_Orthophotos_Irc_2016, GeoportailFrance.Orthoimagery_Orthophotos_Irc_2017, GeoportailFrance.Orthoimagery_Orthophotos_Irc_2018, GeoportailFrance.Orthoimagery_Orthophotos_Irc_2019, GeoportailFrance.Orthoimagery_Orthophotos_Irc_2020, GeoportailFrance.Orthoimagery_Orthophotos_Irc_express_2018, GeoportailFrance.Orthoimagery_Orthophotos_Irc_express_2019, GeoportailFrance.Orthoimagery_Orthophotos_Irc_express_2020, GeoportailFrance.Orthoimagery_Orthophotos_Irc_express_2021, GeoportailFrance.Orthoimagery_Orthophotos_Irc_express_2023, GeoportailFrance.Orthoimagery_Orthophotos_Irc_express_2024, GeoportailFrance.Orthoimagery_Orthophotos_Low_res_Crs84, GeoportailFrance.Orthoimagery_Orthophotos_Ncl, GeoportailFrance.Orthoimagery_Orthophotos_Ortho_asp_pac2020, GeoportailFrance.Orthoimagery_Orthophotos_Ortho_asp_pac2021, GeoportailFrance.Orthoimagery_Orthophotos_Ortho_asp_pac2022, GeoportailFrance.Orthoimagery_Orthophotos_Ortho_asp_pac2024, GeoportailFrance.Orthoimagery_Orthophotos_Ortho_express_2017, GeoportailFrance.Orthoimagery_Orthophotos_Ortho_express_2018, GeoportailFrance.Orthoimagery_Orthophotos_Ortho_express_2019, GeoportailFrance.Orthoimagery_Orthophotos_Ortho_express_2020, GeoportailFrance.Orthoimagery_Orthophotos_Ortho_express_2021, GeoportailFrance.Orthoimagery_Orthophotos_Ortho_express_2023, GeoportailFrance.Orthoimagery_Orthophotos_Ortho_express_2024, GeoportailFrance.Orthoimagery_Orthophotos_Pre_Irma, GeoportailFrance.Orthoimagery_Orthophotos_Rapideye, GeoportailFrance.Orthoimagery_Orthophotos_Socle_asp_2018, GeoportailFrance.Orthoimagery_Orthophotos_Spot5, GeoportailFrance.Orthoimagery_Orthophotos_Urgence_Alex, GeoportailFrance.Parking_Sup_500, GeoportailFrance.Part_Enr_Commune, GeoportailFrance.Patinat_apb, GeoportailFrance.Patinat_apg, GeoportailFrance.Patinat_pn, GeoportailFrance.Patinat_pnr, GeoportailFrance.Patinat_rb, GeoportailFrance.Patinat_rnn, GeoportailFrance.Pcrs_Lamb93, GeoportailFrance.Plan_ign_074_gris_n15, GeoportailFrance.Plan_ign_074_n10_gris, GeoportailFrance.Points_Injection_Biomethane, GeoportailFrance.Potentiel_Eolien_Reglementaire, GeoportailFrance.Potentiel_Geothermie, GeoportailFrance.Potentiel_Hydro, GeoportailFrance.Potentiel_Reseau_Chaleur_Paca, GeoportailFrance.Potentiel_Reseau_Chaud_Froid_Paca, GeoportailFrance.Potentiel_Reseau_Froid_Paca, GeoportailFrance.Potentiel_Solaire_Batiment, GeoportailFrance.Potentiel_Solaire_Friche, GeoportailFrance.Potentiel_Solaire_Parking500, GeoportailFrance.Potentiel_Solaire_Rrn, GeoportailFrance.Potentiel_Solaire_Sol, GeoportailFrance.Prairies_Sensibles_Bcae, GeoportailFrance.Prod_Installation_Eolien, GeoportailFrance.Prod_Installation_Hydro, GeoportailFrance.Prod_Installation_Pv, GeoportailFrance.Productible_Biomethane_Commune, GeoportailFrance.Productible_Eolien_Commune, GeoportailFrance.Productible_Methanisation_Commune, GeoportailFrance.Productible_Photovoltaique_Commune, GeoportailFrance.Protectedareas_Apb, GeoportailFrance.Protectedareas_Apg, GeoportailFrance.Protectedareas_Aphn, GeoportailFrance.Protectedareas_Aplg, GeoportailFrance.Protectedareas_Bios, GeoportailFrance.Protectedareas_Gp, GeoportailFrance.Protectedareas_Inpg, GeoportailFrance.Protectedareas_Mnhn_Cdl_Parcels, GeoportailFrance.Protectedareas_Mnhn_Cdl_Perimeter, GeoportailFrance.Protectedareas_Mnhn_Conservatoires, GeoportailFrance.Protectedareas_Mnhn_Rn_Perimeter, GeoportailFrance.Protectedareas_Pn, GeoportailFrance.Protectedareas_Pnm, GeoportailFrance.Protectedareas_Pnr, GeoportailFrance.Protectedareas_Prsf, GeoportailFrance.Protectedareas_Ramsar, GeoportailFrance.Protectedareas_Rb, GeoportailFrance.Protectedareas_Ripn, GeoportailFrance.Protectedareas_Rn, GeoportailFrance.Protectedareas_Rnc, GeoportailFrance.Protectedareas_Rncf, GeoportailFrance.Protectedareas_Sic, GeoportailFrance.Protectedareas_Unesco, GeoportailFrance.Protectedareas_Znieff1, GeoportailFrance.Protectedareas_Znieff1_Sea, GeoportailFrance.Protectedareas_Znieff2, GeoportailFrance.Protectedareas_Znieff2_Sea, GeoportailFrance.Protectedareas_Zpr, GeoportailFrance.Protectedareas_Zps, GeoportailFrance.Protectedsites_Mnhn_Reserves_regionales, GeoportailFrance.Puissance_Installee_Biomethane, GeoportailFrance.Puissance_Installee_Methanisation, GeoportailFrance.Pva_ign_zone-marais-de-virvee_1945, GeoportailFrance.Pva_ign_zone-marais-de-virvee_1956, GeoportailFrance.Pva_ign_zone-marais-de-virvee_1976, GeoportailFrance.Pva_ign_zone-marais-de-virvee_1984, GeoportailFrance.Rapideye_pyr-jpeg_wld_wm_2010, GeoportailFrance.Rapideye_pyr-jpeg_wld_wm_2011, GeoportailFrance.Raster_zh_centrevdl, GeoportailFrance.Raster_zh_centrevdl_et_auvergnera, GeoportailFrance.Raster_zone_humide_ara_cvdl, GeoportailFrance.Raster_zone_humide_auvergnera, GeoportailFrance.Repartition_Potentiel_Methanisation_2050, GeoportailFrance.Rpg2012_pyr-png_wld_edugeo_20170126, GeoportailFrance.Scan-edugeo_pyr-png_fxx_wm, GeoportailFrance.Scan1000_pyr-jpeg_wld_wm_wmts_3d, GeoportailFrance.Securoute_Te_1te, GeoportailFrance.Securoute_Te_2te48, GeoportailFrance.Securoute_Te_All, GeoportailFrance.Securoute_Te_Oa, GeoportailFrance.Securoute_Te_Pn, GeoportailFrance.Securoute_Te_Pnd, GeoportailFrance.Securoute_Te_Te120, GeoportailFrance.Securoute_Te_Te72, GeoportailFrance.Securoute_Te_Te94, GeoportailFrance.Site_Production_Chaleur_Biogaz, GeoportailFrance.Site_Production_Chaleur_Cogeneration, GeoportailFrance.Site_Production_Chaleur_Dechets, GeoportailFrance.Site_Production_Chaleur_Methanisaton, GeoportailFrance.Site_Production_Chaleur_Rc, GeoportailFrance.Site_Production_Chaleur_Rc_Bretagne, GeoportailFrance.Site_Production_Chaleur_Rc_Paca, GeoportailFrance.Site_Production_Chaleur_Rcf_Lineaire, GeoportailFrance.Site_Production_Chaleur_Rcf_Point, GeoportailFrance.Spot-edugeo_pyr-png_wld_wm, GeoportailFrance.Spot5_pyr-jpeg_wld_wm, GeoportailFrance.Test_pbe_le_havre, GeoportailFrance.Testsrd-pcrs86-poitiers, GeoportailFrance.Thr_Orthoimagery_Orthophotos, GeoportailFrance.Traces_Rando_Hivernale, GeoportailFrance.Transportnetwork_Commontransportelements_Markerpost, GeoportailFrance.Transportnetwork_Commontransportelements_Markerpost_visu, GeoportailFrance.Transportnetworks_Railways, GeoportailFrance.Transportnetworks_Roads, GeoportailFrance.Transportnetworks_Roads_Direction, GeoportailFrance.Transportnetworks_Runways, GeoportailFrance.Transports_Drones_Restrictions, GeoportailFrance.Tuto_scan1000_srd, GeoportailFrance.Utilityandgovernmentalservices_All, GeoportailFrance.Wmts_beziers-colombiers_2022110638503087, GeoportailFrance.Zzz_nl_test_prevair_o3_chi_an_euro_dave_20241201_d_1, GeoportailFrance.Zzz_nl_test_reserve_biosphere, GeoportailFrance.orthos, GeoportailFrance.parcels, GeoportailFrance.plan, HikeBike.HikeBike, HikeBike.HillShading, JusticeMap.americanIndian, JusticeMap.asian, JusticeMap.black, JusticeMap.hispanic, JusticeMap.income, JusticeMap.multi, JusticeMap.nonWhite, JusticeMap.plurality, JusticeMap.white, MtbMap, NASAGIBS.ASTER_GDEM_Greyscale_Shaded_Relief, NASAGIBS.BlueMarble, NASAGIBS.BlueMarble3031, NASAGIBS.BlueMarble3413, NASAGIBS.BlueMarbleBathymetry3031, NASAGIBS.BlueMarbleBathymetry3413, NASAGIBS.MEaSUREsIceVelocity3031, NASAGIBS.MEaSUREsIceVelocity3413, NASAGIBS.ModisAquaBands721CR, NASAGIBS.ModisAquaTrueColorCR, NASAGIBS.ModisTerraAOD, NASAGIBS.ModisTerraBands367CR, NASAGIBS.ModisTerraBands721CR, NASAGIBS.ModisTerraChlorophyll, NASAGIBS.ModisTerraLSTDay, NASAGIBS.ModisTerraSnowCover, NASAGIBS.ModisTerraTrueColorCR, NASAGIBS.ViirsEarthAtNight2012, NASAGIBS.ViirsTrueColorCR, OPNVKarte, OneMapSG.Default, OneMapSG.Grey, OneMapSG.LandLot, OneMapSG.Night, OneMapSG.Original, OpenAIP, OpenFireMap, OpenRailwayMap, OpenSeaMap, OpenSnowMap.pistes, OpenStreetMap.BZH, OpenStreetMap.CAT, OpenStreetMap.CH, OpenStreetMap.DE, OpenStreetMap.France, OpenStreetMap.HOT, OpenStreetMap.Mapnik, OpenTopoMap, SafeCast, Stadia.AlidadeSatellite, Stadia.AlidadeSmooth, Stadia.AlidadeSmoothDark, Stadia.OSMBright, Stadia.Outdoors, Stadia.StamenTerrain, Stadia.StamenTerrainBackground, Stadia.StamenTerrainLabels, Stadia.StamenTerrainLines, Stadia.StamenToner, Stadia.StamenTonerBackground, Stadia.StamenTonerLabels, Stadia.StamenTonerLines, Stadia.StamenTonerLite, Stadia.StamenWatercolor, Strava.All, Strava.Ride, Strava.Run, Strava.Water, Strava.Winter, SwissFederalGeoportal.JourneyThroughTime, SwissFederalGeoportal.NationalMapColor, SwissFederalGeoportal.NationalMapGrey, SwissFederalGeoportal.SWISSIMAGE, TopPlusOpen.Color, TopPlusOpen.Grey, USGS.USImagery, USGS.USImageryTopo, USGS.USTopo, WaymarkedTrails.cycling, WaymarkedTrails.hiking, WaymarkedTrails.mtb, WaymarkedTrails.riding, WaymarkedTrails.skating, WaymarkedTrails.slopes, nlmaps.grijs, nlmaps.luchtfoto, nlmaps.pastel, nlmaps.standaard, nlmaps.water\n"
     ]
    }
   ],
   "source": [
    "list_of_basemaps = get_basemaps().keys()\n",
    "logger.info(\"{} base map(s): {}\".format(\n",
    "    len(list_of_basemaps),\n",
    "    \", \".join(list_of_basemaps),\n",
    "))"
   ]
  },
  {
   "cell_type": "code",
   "execution_count": 5,
   "metadata": {},
   "outputs": [
    {
     "data": {
      "application/vnd.jupyter.widget-view+json": {
       "model_id": "b5bd7f0012394622a84bf83e7d6afd23",
       "version_major": 2,
       "version_minor": 0
      },
      "text/plain": [
       "Map(center=[29.67684, -95.369222], controls=(ZoomControl(options=['position', 'zoom_in_text', 'zoom_in_title',…"
      ]
     },
     "execution_count": 5,
     "metadata": {},
     "output_type": "execute_result"
    }
   ],
   "source": [
    "m = leafmap.Map(center=[29.676840, -95.369222], zoom=19)\n",
    "m.add_basemap(\"SATELLITE\")\n",
    "m"
   ]
  },
  {
   "cell_type": "code",
   "execution_count": 6,
   "metadata": {},
   "outputs": [],
   "source": [
    "if m.user_roi_bounds() is not None:\n",
    "    bbox = m.user_roi_bounds()\n",
    "else:\n",
    "    bbox = [-95.3704, 29.6762, -95.368, 29.6775]"
   ]
  },
  {
   "cell_type": "code",
   "execution_count": 7,
   "metadata": {},
   "outputs": [
    {
     "ename": "ImportError",
     "evalue": "GDAL is not installed. Install it with pip install GDAL",
     "output_type": "error",
     "traceback": [
      "\u001b[0;31m---------------------------------------------------------------------------\u001b[0m",
      "\u001b[0;31mModuleNotFoundError\u001b[0m                       Traceback (most recent call last)",
      "File \u001b[0;32m/opt/anaconda3/envs/roofai/lib/python3.9/site-packages/samgeo/common.py:419\u001b[0m, in \u001b[0;36mtms_to_geotiff\u001b[0;34m(output, bbox, zoom, resolution, source, crs, to_cog, return_image, overwrite, quiet, **kwargs)\u001b[0m\n\u001b[1;32m    418\u001b[0m \u001b[38;5;28;01mtry\u001b[39;00m:\n\u001b[0;32m--> 419\u001b[0m     \u001b[38;5;28;01mfrom\u001b[39;00m\u001b[38;5;250m \u001b[39m\u001b[38;5;21;01mosgeo\u001b[39;00m\u001b[38;5;250m \u001b[39m\u001b[38;5;28;01mimport\u001b[39;00m gdal, osr\n\u001b[1;32m    420\u001b[0m \u001b[38;5;28;01mexcept\u001b[39;00m \u001b[38;5;167;01mImportError\u001b[39;00m:\n",
      "\u001b[0;31mModuleNotFoundError\u001b[0m: No module named 'osgeo'",
      "\nDuring handling of the above exception, another exception occurred:\n",
      "\u001b[0;31mImportError\u001b[0m                               Traceback (most recent call last)",
      "Cell \u001b[0;32mIn[7], line 1\u001b[0m\n\u001b[0;32m----> 1\u001b[0m \u001b[43mtms_to_geotiff\u001b[49m\u001b[43m(\u001b[49m\n\u001b[1;32m      2\u001b[0m \u001b[43m    \u001b[49m\u001b[43moutput\u001b[49m\u001b[38;5;241;43m=\u001b[39;49m\u001b[43mobjects\u001b[49m\u001b[38;5;241;43m.\u001b[39;49m\u001b[43mpath_of\u001b[49m\u001b[43m(\u001b[49m\u001b[38;5;124;43m\"\u001b[39;49m\u001b[38;5;124;43msatellite.tif\u001b[39;49m\u001b[38;5;124;43m\"\u001b[39;49m\u001b[43m,\u001b[49m\u001b[43mobject_name\u001b[49m\u001b[43m)\u001b[49m\u001b[43m,\u001b[49m\u001b[43m \u001b[49m\n\u001b[1;32m      3\u001b[0m \u001b[43m    \u001b[49m\u001b[43mbbox\u001b[49m\u001b[38;5;241;43m=\u001b[39;49m\u001b[43mbbox\u001b[49m\u001b[43m,\u001b[49m\u001b[43m \u001b[49m\n\u001b[1;32m      4\u001b[0m \u001b[43m    \u001b[49m\u001b[43mzoom\u001b[49m\u001b[38;5;241;43m=\u001b[39;49m\u001b[38;5;241;43m20\u001b[39;49m\u001b[43m,\u001b[49m\u001b[43m \u001b[49m\n\u001b[1;32m      5\u001b[0m \u001b[43m    \u001b[49m\u001b[43msource\u001b[49m\u001b[38;5;241;43m=\u001b[39;49m\u001b[38;5;124;43m\"\u001b[39;49m\u001b[38;5;124;43mSatellite\u001b[39;49m\u001b[38;5;124;43m\"\u001b[39;49m\u001b[43m,\u001b[49m\u001b[43m \u001b[49m\n\u001b[1;32m      6\u001b[0m \u001b[43m    \u001b[49m\u001b[43moverwrite\u001b[49m\u001b[38;5;241;43m=\u001b[39;49m\u001b[38;5;28;43;01mTrue\u001b[39;49;00m\n\u001b[1;32m      7\u001b[0m \u001b[43m)\u001b[49m\n",
      "File \u001b[0;32m/opt/anaconda3/envs/roofai/lib/python3.9/site-packages/samgeo/common.py:421\u001b[0m, in \u001b[0;36mtms_to_geotiff\u001b[0;34m(output, bbox, zoom, resolution, source, crs, to_cog, return_image, overwrite, quiet, **kwargs)\u001b[0m\n\u001b[1;32m    419\u001b[0m     \u001b[38;5;28;01mfrom\u001b[39;00m\u001b[38;5;250m \u001b[39m\u001b[38;5;21;01mosgeo\u001b[39;00m\u001b[38;5;250m \u001b[39m\u001b[38;5;28;01mimport\u001b[39;00m gdal, osr\n\u001b[1;32m    420\u001b[0m \u001b[38;5;28;01mexcept\u001b[39;00m \u001b[38;5;167;01mImportError\u001b[39;00m:\n\u001b[0;32m--> 421\u001b[0m     \u001b[38;5;28;01mraise\u001b[39;00m \u001b[38;5;167;01mImportError\u001b[39;00m(\u001b[38;5;124m\"\u001b[39m\u001b[38;5;124mGDAL is not installed. Install it with pip install GDAL\u001b[39m\u001b[38;5;124m\"\u001b[39m)\n\u001b[1;32m    423\u001b[0m \u001b[38;5;28;01mtry\u001b[39;00m:\n\u001b[1;32m    424\u001b[0m     \u001b[38;5;28;01mimport\u001b[39;00m\u001b[38;5;250m \u001b[39m\u001b[38;5;21;01mhttpx\u001b[39;00m\n",
      "\u001b[0;31mImportError\u001b[0m: GDAL is not installed. Install it with pip install GDAL"
     ]
    }
   ],
   "source": [
    "tms_to_geotiff(\n",
    "    output=objects.path_of(\"satellite.tif\",object_name), \n",
    "    bbox=bbox, \n",
    "    zoom=20, \n",
    "    source=\"Satellite\", \n",
    "    overwrite=True\n",
    ")"
   ]
  },
  {
   "attachments": {},
   "cell_type": "markdown",
   "metadata": {},
   "source": [
    "---"
   ]
  },
  {
   "cell_type": "code",
   "execution_count": null,
   "metadata": {},
   "outputs": [],
   "source": [
    "assert notebooks.upload(object_name)"
   ]
  },
  {
   "cell_type": "code",
   "execution_count": 5,
   "metadata": {},
   "outputs": [],
   "source": [
    "# END"
   ]
  }
 ],
 "metadata": {
  "kernelspec": {
   "display_name": "roofai",
   "language": "python",
   "name": "python3"
  },
  "language_info": {
   "codemirror_mode": {
    "name": "ipython",
    "version": 3
   },
   "file_extension": ".py",
   "mimetype": "text/x-python",
   "name": "python",
   "nbconvert_exporter": "python",
   "pygments_lexer": "ipython3",
   "version": "3.9.21"
  },
  "toc": {
   "base_numbering": 1,
   "nav_menu": {},
   "number_sections": true,
   "sideBar": true,
   "skip_h1_title": false,
   "title_cell": "Table of Contents",
   "title_sidebar": "Contents",
   "toc_cell": false,
   "toc_position": {},
   "toc_section_display": true,
   "toc_window_display": false
  }
 },
 "nbformat": 4,
 "nbformat_minor": 2
}
