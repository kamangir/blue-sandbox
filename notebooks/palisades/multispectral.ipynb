{
 "cells": [
  {
   "attachments": {},
   "cell_type": "markdown",
   "metadata": {},
   "source": [
    "# 🧑🏽‍🚒 palisades - Multispectral Analysis"
   ]
  },
  {
   "cell_type": "code",
   "execution_count": 1,
   "metadata": {},
   "outputs": [
    {
     "name": "stderr",
     "output_type": "stream",
     "text": [
      "🌀  blue_sandbox-5.146.1.abcli-9.464.1.blue_objects-5.230.1.blue_options-4.189.1.torch-2.5.1.Python 3.9.6.Darwin 23.6.0..Jupyter-Notebook,\n",
      "built on 15 January 2025, 20:23:06\n"
     ]
    }
   ],
   "source": [
    "import sys\n",
    "sys.path.append('../..')\n",
    "\n",
    "from blueflow import notebooks\n",
    "\n",
    "from blue_options import string\n",
    "from blue_objects import objects, file\n",
    "from blue_geo.catalog import get_datacube\n",
    "\n",
    "from blue_sandbox.host import signature\n",
    "from blue_sandbox.logger import logger\n",
    "\n",
    "logger.info(f\"{'.'.join(signature())},\\nbuilt on {string.pretty_date()}\")"
   ]
  },
  {
   "cell_type": "code",
   "execution_count": null,
   "metadata": {},
   "outputs": [],
   "source": [
    "# @datacube ingest scope=all <datacube-id>\n",
    "datacube_id = \"datacube-maxar_open_data-WildFires-LosAngeles-Jan-2025-11-031311102213-1050010040277500\""
   ]
  },
  {
   "cell_type": "code",
   "execution_count": 3,
   "metadata": {},
   "outputs": [
    {
     "name": "stderr",
     "output_type": "stream",
     "text": [
      "🌀  📂 palisades-multispectral-2025-01-15-20-23-06-0hf0ol\n"
     ]
    }
   ],
   "source": [
    "object_name = objects.unique_object(\"palisades-multispectral\")\n",
    "object_path = objects.object_path(object_name)"
   ]
  },
  {
   "attachments": {},
   "cell_type": "markdown",
   "metadata": {},
   "source": [
    "---"
   ]
  },
  {
   "cell_type": "code",
   "execution_count": 4,
   "metadata": {},
   "outputs": [
    {
     "name": "stderr",
     "output_type": "stream",
     "text": [
      "🌀  <blue_geo.catalog.maxar_open_data.collection.classes.MaxarOpenDataDatacube object at 0x105236b20>\n"
     ]
    }
   ],
   "source": [
    "datacube = get_datacube(datacube_id)\n",
    "logger.info(datacube)"
   ]
  },
  {
   "cell_type": "code",
   "execution_count": 5,
   "metadata": {},
   "outputs": [
    {
     "name": "stderr",
     "output_type": "stream",
     "text": [
      "🌀  4 file(s)\n",
      "🌀  11-031311102213-1050010040277500-1050010040277500-data-mask.gpkg\n",
      "🌀  11-031311102213-1050010040277500-1050010040277500-ms.tif\n",
      "🌀  11-031311102213-1050010040277500-1050010040277500-pan.tif\n",
      "🌀  11-031311102213-1050010040277500-1050010040277500-visual.tif\n"
     ]
    }
   ],
   "source": [
    "list_of_files = datacube.list_of_files()\n",
    "\n",
    "logger.info(f\"{len(list_of_files)} file(s)\")\n",
    "for filename in list_of_files:\n",
    "    logger.info(filename)"
   ]
  },
  {
   "cell_type": "code",
   "execution_count": 6,
   "metadata": {},
   "outputs": [],
   "source": [
    "ms_filename = [filename for filename in list_of_files if filename.endswith(\"ms.tif\")][0]\n",
    "ms_filename = objects.path_of(object_name=datacube_id, filename=ms_filename)"
   ]
  },
  {
   "cell_type": "code",
   "execution_count": 7,
   "metadata": {},
   "outputs": [
    {
     "name": "stderr",
     "output_type": "stream",
     "text": [
      "🌀  loaded 4x2920x2920:uint16 @ (1.8193493150684932, 1.8193493150684932) m : EPSG:32611 from /Users/kamangir/storage/abcli/datacube-maxar_open_data-WildFires-LosAngeles-Jan-2025-11-031311102213-1050010040277500/11-031311102213-1050010040277500-1050010040277500-ms.tif\n"
     ]
    }
   ],
   "source": [
    "success, matrix, metadata = file.load_geoimage(ms_filename, log=True)\n",
    "assert success"
   ]
  },
  {
   "cell_type": "code",
   "execution_count": 8,
   "metadata": {},
   "outputs": [
    {
     "name": "stderr",
     "output_type": "stream",
     "text": [
      "🌀  🪄\n"
     ]
    }
   ],
   "source": [
    "logger.info(\"🪄\")"
   ]
  },
  {
   "attachments": {},
   "cell_type": "markdown",
   "metadata": {},
   "source": [
    "---"
   ]
  },
  {
   "cell_type": "code",
   "execution_count": 9,
   "metadata": {},
   "outputs": [
    {
     "name": "stderr",
     "output_type": "stream",
     "text": [
      "🌀  ⏺️  palisades-multispectral-2025-01-15-20-23-06-0hf0ol | 00001\n"
     ]
    },
    {
     "name": "stdout",
     "output_type": "stream",
     "text": [
      "🏃 View run palisades-multispectral-2025-01-15-20-23-06-0hf0ol-00001 at: https://dbc-3ac1d106-bf0c.cloud.databricks.com/ml/experiments/4227081543907604/runs/73fad5709c484df2b18592ccf2e617ab\n",
      "🧪 View experiment at: https://dbc-3ac1d106-bf0c.cloud.databricks.com/ml/experiments/4227081543907604\n"
     ]
    },
    {
     "name": "stderr",
     "output_type": "stream",
     "text": [
      "🌀  ⏹️  palisades-multispectral-2025-01-15-20-23-06-0hf0ol\n"
     ]
    }
   ],
   "source": [
    "assert notebooks.upload(object_name)"
   ]
  },
  {
   "cell_type": "code",
   "execution_count": 10,
   "metadata": {},
   "outputs": [],
   "source": [
    "# END"
   ]
  }
 ],
 "metadata": {
  "kernelspec": {
   "display_name": ".venv",
   "language": "python",
   "name": "python3"
  },
  "language_info": {
   "codemirror_mode": {
    "name": "ipython",
    "version": 3
   },
   "file_extension": ".py",
   "mimetype": "text/x-python",
   "name": "python",
   "nbconvert_exporter": "python",
   "pygments_lexer": "ipython3",
   "version": "3.9.6"
  },
  "toc": {
   "base_numbering": 1,
   "nav_menu": {},
   "number_sections": true,
   "sideBar": true,
   "skip_h1_title": false,
   "title_cell": "Table of Contents",
   "title_sidebar": "Contents",
   "toc_cell": false,
   "toc_position": {},
   "toc_section_display": true,
   "toc_window_display": false
  }
 },
 "nbformat": 4,
 "nbformat_minor": 2
}
