{
 "cells": [
  {
   "attachments": {},
   "cell_type": "markdown",
   "metadata": {},
   "source": [
    "# multi-threading - 1"
   ]
  },
  {
   "cell_type": "code",
   "execution_count": 1,
   "metadata": {},
   "outputs": [
    {
     "name": "stderr",
     "output_type": "stream",
     "text": [
      "🌀  blue_sandbox-5.327.1.abcli-9.558.1.blue_objects-5.326.1.blue_options-4.232.1.torch-2.6.0.Python 3.9.21.Darwin 23.6.0..Jupyter-Notebook,\n",
      "built on 10 March 2025, 23:43:47\n"
     ]
    }
   ],
   "source": [
    "from blueflow import notebooks\n",
    "\n",
    "import threading\n",
    "from tqdm import trange\n",
    "import random\n",
    "\n",
    "from blue_options.elapsed_timer import ElapsedTimer\n",
    "from blue_options import string\n",
    "\n",
    "from blue_sandbox.host import signature\n",
    "from blue_sandbox.logger import logger\n",
    "\n",
    "logger.info(f\"{'.'.join(signature())},\\nbuilt on {string.pretty_date()}\")"
   ]
  },
  {
   "attachments": {},
   "cell_type": "markdown",
   "metadata": {},
   "source": [
    "---"
   ]
  },
  {
   "cell_type": "code",
   "execution_count": 2,
   "metadata": {},
   "outputs": [],
   "source": [
    "thread_count = 2"
   ]
  },
  {
   "cell_type": "code",
   "execution_count": 3,
   "metadata": {},
   "outputs": [],
   "source": [
    "# computes the sum of numbers up to n, intentionally slowly.\n",
    "def compute_sum(n, output, index):\n",
    "    sum = 0\n",
    "    for i in trange(n + 1):\n",
    "        sum += i\n",
    "    \n",
    "    output[index] = sum"
   ]
  },
  {
   "cell_type": "code",
   "execution_count": 4,
   "metadata": {},
   "outputs": [],
   "source": [
    "output = thread_count * [0]\n",
    "max_number = [10000 * random.randint(1,1000) for _ in range(thread_count)]"
   ]
  },
  {
   "cell_type": "code",
   "execution_count": 5,
   "metadata": {},
   "outputs": [
    {
     "name": "stderr",
     "output_type": "stream",
     "text": [
      "100%|██████████| 2/2 [00:00<00:00, 19784.45it/s]\n"
     ]
    }
   ],
   "source": [
    "thread = [\n",
    "    threading.Thread(\n",
    "      target=compute_sum, \n",
    "      args=(\n",
    "         max_number[index], \n",
    "         output, \n",
    "         index)\n",
    "    )\n",
    "    for index in trange(thread_count)\n",
    "]"
   ]
  },
  {
   "cell_type": "code",
   "execution_count": 6,
   "metadata": {},
   "outputs": [
    {
     "name": "stderr",
     "output_type": "stream",
     "text": [
      "100%|██████████| 2560001/2560001 [00:00<00:00, 7222377.82it/s]\n",
      "100%|██████████| 3830001/3830001 [00:00<00:00, 9154844.37it/s]\n"
     ]
    }
   ],
   "source": [
    "timer = ElapsedTimer()\n",
    "\n",
    "for index in range(thread_count):\n",
    "    thread[index].start()\n",
    "\n",
    "# Wait for the threads to complete\n",
    "for index in range(thread_count):\n",
    "    thread[index].join()\n",
    "\n",
    "timer.stop()"
   ]
  },
  {
   "cell_type": "code",
   "execution_count": 7,
   "metadata": {},
   "outputs": [
    {
     "name": "stderr",
     "output_type": "stream",
     "text": [
      "🌀  #  0: sum(range(2,560,000)) = 3,276,801,280,000\n",
      "🌀  #  1: sum(range(3,830,000)) = 7,334,451,915,000\n"
     ]
    }
   ],
   "source": [
    "for index in range(thread_count):\n",
    "    logger.info(\"#{: 3d}: sum(range({:,})) = {:,}\".format(\n",
    "        index,\n",
    "        max_number[index],\n",
    "        output[index])\n",
    "        )"
   ]
  },
  {
   "cell_type": "code",
   "execution_count": 8,
   "metadata": {},
   "outputs": [
    {
     "name": "stderr",
     "output_type": "stream",
     "text": [
      "🌀  took 1 second(s)\n"
     ]
    }
   ],
   "source": [
    "logger.info(f\"took {timer.elapsed_pretty()}\")"
   ]
  },
  {
   "attachments": {},
   "cell_type": "markdown",
   "metadata": {},
   "source": [
    "---"
   ]
  },
  {
   "cell_type": "code",
   "execution_count": 9,
   "metadata": {},
   "outputs": [],
   "source": [
    "# END"
   ]
  }
 ],
 "metadata": {
  "kernelspec": {
   "display_name": "roofai",
   "language": "python",
   "name": "python3"
  },
  "language_info": {
   "codemirror_mode": {
    "name": "ipython",
    "version": 3
   },
   "file_extension": ".py",
   "mimetype": "text/x-python",
   "name": "python",
   "nbconvert_exporter": "python",
   "pygments_lexer": "ipython3",
   "version": "3.9.21"
  },
  "toc": {
   "base_numbering": 1,
   "nav_menu": {},
   "number_sections": true,
   "sideBar": true,
   "skip_h1_title": false,
   "title_cell": "Table of Contents",
   "title_sidebar": "Contents",
   "toc_cell": false,
   "toc_position": {},
   "toc_section_display": true,
   "toc_window_display": false
  }
 },
 "nbformat": 4,
 "nbformat_minor": 2
}
